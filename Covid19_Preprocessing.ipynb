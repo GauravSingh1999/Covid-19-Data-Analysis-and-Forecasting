{
  "nbformat": 4,
  "nbformat_minor": 0,
  "metadata": {
    "colab": {
      "name": "Covid19_Preprocessing.ipynb",
      "provenance": []
    },
    "kernelspec": {
      "name": "python3",
      "display_name": "Python 3"
    }
  },
  "cells": [
    {
      "cell_type": "code",
      "metadata": {
        "id": "NMS-vT4T_vVo"
      },
      "source": [
        "import pandas as pd\n",
        "import numpy as np\n",
        "import matplotlib.pyplot as plt"
      ],
      "execution_count": null,
      "outputs": []
    },
    {
      "cell_type": "code",
      "metadata": {
        "id": "mMbFUbRgCNsK",
        "colab": {
          "base_uri": "https://localhost:8080/",
          "height": 462
        },
        "outputId": "5b24bc4f-075f-451e-9938-993dca43a2d2"
      },
      "source": [
        "df=pd.read_csv('/content/drive/MyDrive/Major/Covid19_India.csv')\n",
        "df"
      ],
      "execution_count": null,
      "outputs": [
        {
          "output_type": "stream",
          "text": [
            "/usr/local/lib/python3.7/dist-packages/IPython/core/interactiveshell.py:2718: DtypeWarning: Columns (3) have mixed types.Specify dtype option on import or set low_memory=False.\n",
            "  interactivity=interactivity, compiler=compiler, result=result)\n"
          ],
          "name": "stderr"
        },
        {
          "output_type": "execute_result",
          "data": {
            "text/html": [
              "<div>\n",
              "<style scoped>\n",
              "    .dataframe tbody tr th:only-of-type {\n",
              "        vertical-align: middle;\n",
              "    }\n",
              "\n",
              "    .dataframe tbody tr th {\n",
              "        vertical-align: top;\n",
              "    }\n",
              "\n",
              "    .dataframe thead th {\n",
              "        text-align: right;\n",
              "    }\n",
              "</style>\n",
              "<table border=\"1\" class=\"dataframe\">\n",
              "  <thead>\n",
              "    <tr style=\"text-align: right;\">\n",
              "      <th></th>\n",
              "      <th>Unnamed: 0</th>\n",
              "      <th>Num Cases</th>\n",
              "      <th>Date Announced</th>\n",
              "      <th>Age Bracket</th>\n",
              "      <th>Gender</th>\n",
              "      <th>Detected City</th>\n",
              "      <th>Detected District</th>\n",
              "      <th>Detected State</th>\n",
              "      <th>Current Status</th>\n",
              "      <th>Day</th>\n",
              "      <th>Month</th>\n",
              "      <th>Year</th>\n",
              "    </tr>\n",
              "  </thead>\n",
              "  <tbody>\n",
              "    <tr>\n",
              "      <th>0</th>\n",
              "      <td>0</td>\n",
              "      <td>1.0</td>\n",
              "      <td>30/01/2020</td>\n",
              "      <td>20</td>\n",
              "      <td>F</td>\n",
              "      <td>Thrissur</td>\n",
              "      <td>Thrissur</td>\n",
              "      <td>Kerala</td>\n",
              "      <td>Recovered</td>\n",
              "      <td>30.0</td>\n",
              "      <td>1.0</td>\n",
              "      <td>2020.0</td>\n",
              "    </tr>\n",
              "    <tr>\n",
              "      <th>1</th>\n",
              "      <td>1</td>\n",
              "      <td>1.0</td>\n",
              "      <td>02/02/2020</td>\n",
              "      <td>NaN</td>\n",
              "      <td>NaN</td>\n",
              "      <td>Alappuzha</td>\n",
              "      <td>Alappuzha</td>\n",
              "      <td>Kerala</td>\n",
              "      <td>Recovered</td>\n",
              "      <td>2.0</td>\n",
              "      <td>2.0</td>\n",
              "      <td>2020.0</td>\n",
              "    </tr>\n",
              "    <tr>\n",
              "      <th>2</th>\n",
              "      <td>2</td>\n",
              "      <td>1.0</td>\n",
              "      <td>03/02/2020</td>\n",
              "      <td>NaN</td>\n",
              "      <td>NaN</td>\n",
              "      <td>Kasaragod</td>\n",
              "      <td>Kasaragod</td>\n",
              "      <td>Kerala</td>\n",
              "      <td>Recovered</td>\n",
              "      <td>3.0</td>\n",
              "      <td>2.0</td>\n",
              "      <td>2020.0</td>\n",
              "    </tr>\n",
              "    <tr>\n",
              "      <th>3</th>\n",
              "      <td>3</td>\n",
              "      <td>1.0</td>\n",
              "      <td>02/03/2020</td>\n",
              "      <td>45</td>\n",
              "      <td>M</td>\n",
              "      <td>East Delhi (Mayur Vihar)</td>\n",
              "      <td>East Delhi</td>\n",
              "      <td>Delhi</td>\n",
              "      <td>Recovered</td>\n",
              "      <td>2.0</td>\n",
              "      <td>3.0</td>\n",
              "      <td>2020.0</td>\n",
              "    </tr>\n",
              "    <tr>\n",
              "      <th>4</th>\n",
              "      <td>4</td>\n",
              "      <td>1.0</td>\n",
              "      <td>02/03/2020</td>\n",
              "      <td>24</td>\n",
              "      <td>M</td>\n",
              "      <td>Hyderabad</td>\n",
              "      <td>Hyderabad</td>\n",
              "      <td>Telangana</td>\n",
              "      <td>Recovered</td>\n",
              "      <td>2.0</td>\n",
              "      <td>3.0</td>\n",
              "      <td>2020.0</td>\n",
              "    </tr>\n",
              "    <tr>\n",
              "      <th>...</th>\n",
              "      <td>...</td>\n",
              "      <td>...</td>\n",
              "      <td>...</td>\n",
              "      <td>...</td>\n",
              "      <td>...</td>\n",
              "      <td>...</td>\n",
              "      <td>...</td>\n",
              "      <td>...</td>\n",
              "      <td>...</td>\n",
              "      <td>...</td>\n",
              "      <td>...</td>\n",
              "      <td>...</td>\n",
              "    </tr>\n",
              "    <tr>\n",
              "      <th>556887</th>\n",
              "      <td>7039</td>\n",
              "      <td>1.0</td>\n",
              "      <td>07/03/2021</td>\n",
              "      <td>NaN</td>\n",
              "      <td>NaN</td>\n",
              "      <td>NaN</td>\n",
              "      <td>Lucknow</td>\n",
              "      <td>Uttar Pradesh</td>\n",
              "      <td>Deceased</td>\n",
              "      <td>7.0</td>\n",
              "      <td>3.0</td>\n",
              "      <td>2021.0</td>\n",
              "    </tr>\n",
              "    <tr>\n",
              "      <th>556888</th>\n",
              "      <td>7040</td>\n",
              "      <td>1.0</td>\n",
              "      <td>07/03/2021</td>\n",
              "      <td>NaN</td>\n",
              "      <td>NaN</td>\n",
              "      <td>NaN</td>\n",
              "      <td>Sonbhadra</td>\n",
              "      <td>Uttar Pradesh</td>\n",
              "      <td>Deceased</td>\n",
              "      <td>7.0</td>\n",
              "      <td>3.0</td>\n",
              "      <td>2021.0</td>\n",
              "    </tr>\n",
              "    <tr>\n",
              "      <th>556889</th>\n",
              "      <td>7041</td>\n",
              "      <td>1.0</td>\n",
              "      <td>07/03/2021</td>\n",
              "      <td>NaN</td>\n",
              "      <td>NaN</td>\n",
              "      <td>NaN</td>\n",
              "      <td>Fatehpur</td>\n",
              "      <td>Uttar Pradesh</td>\n",
              "      <td>Deceased</td>\n",
              "      <td>7.0</td>\n",
              "      <td>3.0</td>\n",
              "      <td>2021.0</td>\n",
              "    </tr>\n",
              "    <tr>\n",
              "      <th>556890</th>\n",
              "      <td>7042</td>\n",
              "      <td>1.0</td>\n",
              "      <td>07/03/2021</td>\n",
              "      <td>NaN</td>\n",
              "      <td>NaN</td>\n",
              "      <td>NaN</td>\n",
              "      <td>Auraiya</td>\n",
              "      <td>Uttar Pradesh</td>\n",
              "      <td>Deceased</td>\n",
              "      <td>7.0</td>\n",
              "      <td>3.0</td>\n",
              "      <td>2021.0</td>\n",
              "    </tr>\n",
              "    <tr>\n",
              "      <th>556891</th>\n",
              "      <td>7043</td>\n",
              "      <td>4.0</td>\n",
              "      <td>07/03/2021</td>\n",
              "      <td>NaN</td>\n",
              "      <td>NaN</td>\n",
              "      <td>NaN</td>\n",
              "      <td>Bhadohi</td>\n",
              "      <td>Uttar Pradesh</td>\n",
              "      <td>Deceased</td>\n",
              "      <td>7.0</td>\n",
              "      <td>3.0</td>\n",
              "      <td>2021.0</td>\n",
              "    </tr>\n",
              "  </tbody>\n",
              "</table>\n",
              "<p>556892 rows × 12 columns</p>\n",
              "</div>"
            ],
            "text/plain": [
              "        Unnamed: 0  Num Cases Date Announced  ...   Day Month    Year\n",
              "0                0        1.0     30/01/2020  ...  30.0   1.0  2020.0\n",
              "1                1        1.0     02/02/2020  ...   2.0   2.0  2020.0\n",
              "2                2        1.0     03/02/2020  ...   3.0   2.0  2020.0\n",
              "3                3        1.0     02/03/2020  ...   2.0   3.0  2020.0\n",
              "4                4        1.0     02/03/2020  ...   2.0   3.0  2020.0\n",
              "...            ...        ...            ...  ...   ...   ...     ...\n",
              "556887        7039        1.0     07/03/2021  ...   7.0   3.0  2021.0\n",
              "556888        7040        1.0     07/03/2021  ...   7.0   3.0  2021.0\n",
              "556889        7041        1.0     07/03/2021  ...   7.0   3.0  2021.0\n",
              "556890        7042        1.0     07/03/2021  ...   7.0   3.0  2021.0\n",
              "556891        7043        4.0     07/03/2021  ...   7.0   3.0  2021.0\n",
              "\n",
              "[556892 rows x 12 columns]"
            ]
          },
          "metadata": {
            "tags": []
          },
          "execution_count": 4
        }
      ]
    },
    {
      "cell_type": "code",
      "metadata": {
        "colab": {
          "base_uri": "https://localhost:8080/"
        },
        "id": "bTk1VeUfDPcH",
        "outputId": "302d907c-37a5-40e5-847c-4962aee5d2bf"
      },
      "source": [
        "df.info()"
      ],
      "execution_count": null,
      "outputs": [
        {
          "output_type": "stream",
          "text": [
            "<class 'pandas.core.frame.DataFrame'>\n",
            "RangeIndex: 556892 entries, 0 to 556891\n",
            "Data columns (total 12 columns):\n",
            " #   Column             Non-Null Count   Dtype  \n",
            "---  ------             --------------   -----  \n",
            " 0   Unnamed: 0         556892 non-null  int64  \n",
            " 1   Num Cases          556873 non-null  float64\n",
            " 2   Date Announced     556885 non-null  object \n",
            " 3   Age Bracket        119491 non-null  object \n",
            " 4   Gender             123835 non-null  object \n",
            " 5   Detected City      16616 non-null   object \n",
            " 6   Detected District  541198 non-null  object \n",
            " 7   Detected State     556869 non-null  object \n",
            " 8   Current Status     556879 non-null  object \n",
            " 9   Day                556885 non-null  float64\n",
            " 10  Month              556885 non-null  float64\n",
            " 11  Year               556885 non-null  float64\n",
            "dtypes: float64(4), int64(1), object(7)\n",
            "memory usage: 51.0+ MB\n"
          ],
          "name": "stdout"
        }
      ]
    },
    {
      "cell_type": "code",
      "metadata": {
        "colab": {
          "base_uri": "https://localhost:8080/",
          "height": 647
        },
        "id": "rWGYYZe7FGVN",
        "outputId": "ce037b40-c30a-4ecf-fb4d-07bb6b4a24af"
      },
      "source": [
        "data=df.iloc[:,1:]\n",
        "data.head(20)"
      ],
      "execution_count": null,
      "outputs": [
        {
          "output_type": "execute_result",
          "data": {
            "text/html": [
              "<div>\n",
              "<style scoped>\n",
              "    .dataframe tbody tr th:only-of-type {\n",
              "        vertical-align: middle;\n",
              "    }\n",
              "\n",
              "    .dataframe tbody tr th {\n",
              "        vertical-align: top;\n",
              "    }\n",
              "\n",
              "    .dataframe thead th {\n",
              "        text-align: right;\n",
              "    }\n",
              "</style>\n",
              "<table border=\"1\" class=\"dataframe\">\n",
              "  <thead>\n",
              "    <tr style=\"text-align: right;\">\n",
              "      <th></th>\n",
              "      <th>Num Cases</th>\n",
              "      <th>Date Announced</th>\n",
              "      <th>Age Bracket</th>\n",
              "      <th>Gender</th>\n",
              "      <th>Detected City</th>\n",
              "      <th>Detected District</th>\n",
              "      <th>Detected State</th>\n",
              "      <th>Current Status</th>\n",
              "      <th>Day</th>\n",
              "      <th>Month</th>\n",
              "      <th>Year</th>\n",
              "    </tr>\n",
              "  </thead>\n",
              "  <tbody>\n",
              "    <tr>\n",
              "      <th>0</th>\n",
              "      <td>1.0</td>\n",
              "      <td>30/01/2020</td>\n",
              "      <td>20</td>\n",
              "      <td>F</td>\n",
              "      <td>Thrissur</td>\n",
              "      <td>Thrissur</td>\n",
              "      <td>Kerala</td>\n",
              "      <td>Recovered</td>\n",
              "      <td>30.0</td>\n",
              "      <td>1.0</td>\n",
              "      <td>2020.0</td>\n",
              "    </tr>\n",
              "    <tr>\n",
              "      <th>1</th>\n",
              "      <td>1.0</td>\n",
              "      <td>02/02/2020</td>\n",
              "      <td>NaN</td>\n",
              "      <td>NaN</td>\n",
              "      <td>Alappuzha</td>\n",
              "      <td>Alappuzha</td>\n",
              "      <td>Kerala</td>\n",
              "      <td>Recovered</td>\n",
              "      <td>2.0</td>\n",
              "      <td>2.0</td>\n",
              "      <td>2020.0</td>\n",
              "    </tr>\n",
              "    <tr>\n",
              "      <th>2</th>\n",
              "      <td>1.0</td>\n",
              "      <td>03/02/2020</td>\n",
              "      <td>NaN</td>\n",
              "      <td>NaN</td>\n",
              "      <td>Kasaragod</td>\n",
              "      <td>Kasaragod</td>\n",
              "      <td>Kerala</td>\n",
              "      <td>Recovered</td>\n",
              "      <td>3.0</td>\n",
              "      <td>2.0</td>\n",
              "      <td>2020.0</td>\n",
              "    </tr>\n",
              "    <tr>\n",
              "      <th>3</th>\n",
              "      <td>1.0</td>\n",
              "      <td>02/03/2020</td>\n",
              "      <td>45</td>\n",
              "      <td>M</td>\n",
              "      <td>East Delhi (Mayur Vihar)</td>\n",
              "      <td>East Delhi</td>\n",
              "      <td>Delhi</td>\n",
              "      <td>Recovered</td>\n",
              "      <td>2.0</td>\n",
              "      <td>3.0</td>\n",
              "      <td>2020.0</td>\n",
              "    </tr>\n",
              "    <tr>\n",
              "      <th>4</th>\n",
              "      <td>1.0</td>\n",
              "      <td>02/03/2020</td>\n",
              "      <td>24</td>\n",
              "      <td>M</td>\n",
              "      <td>Hyderabad</td>\n",
              "      <td>Hyderabad</td>\n",
              "      <td>Telangana</td>\n",
              "      <td>Recovered</td>\n",
              "      <td>2.0</td>\n",
              "      <td>3.0</td>\n",
              "      <td>2020.0</td>\n",
              "    </tr>\n",
              "    <tr>\n",
              "      <th>5</th>\n",
              "      <td>1.0</td>\n",
              "      <td>03/03/2020</td>\n",
              "      <td>69</td>\n",
              "      <td>M</td>\n",
              "      <td>Jaipur</td>\n",
              "      <td>Italians</td>\n",
              "      <td>Rajasthan</td>\n",
              "      <td>Recovered</td>\n",
              "      <td>3.0</td>\n",
              "      <td>3.0</td>\n",
              "      <td>2020.0</td>\n",
              "    </tr>\n",
              "    <tr>\n",
              "      <th>6</th>\n",
              "      <td>1.0</td>\n",
              "      <td>04/03/2020</td>\n",
              "      <td>55</td>\n",
              "      <td>NaN</td>\n",
              "      <td>Gurugram</td>\n",
              "      <td>Italians</td>\n",
              "      <td>Haryana</td>\n",
              "      <td>Recovered</td>\n",
              "      <td>4.0</td>\n",
              "      <td>3.0</td>\n",
              "      <td>2020.0</td>\n",
              "    </tr>\n",
              "    <tr>\n",
              "      <th>7</th>\n",
              "      <td>1.0</td>\n",
              "      <td>04/03/2020</td>\n",
              "      <td>55</td>\n",
              "      <td>NaN</td>\n",
              "      <td>Gurugram</td>\n",
              "      <td>Italians</td>\n",
              "      <td>Haryana</td>\n",
              "      <td>Recovered</td>\n",
              "      <td>4.0</td>\n",
              "      <td>3.0</td>\n",
              "      <td>2020.0</td>\n",
              "    </tr>\n",
              "    <tr>\n",
              "      <th>8</th>\n",
              "      <td>1.0</td>\n",
              "      <td>04/03/2020</td>\n",
              "      <td>55</td>\n",
              "      <td>NaN</td>\n",
              "      <td>Gurugram</td>\n",
              "      <td>Italians</td>\n",
              "      <td>Haryana</td>\n",
              "      <td>Recovered</td>\n",
              "      <td>4.0</td>\n",
              "      <td>3.0</td>\n",
              "      <td>2020.0</td>\n",
              "    </tr>\n",
              "    <tr>\n",
              "      <th>9</th>\n",
              "      <td>1.0</td>\n",
              "      <td>04/03/2020</td>\n",
              "      <td>55</td>\n",
              "      <td>NaN</td>\n",
              "      <td>Gurugram</td>\n",
              "      <td>Italians</td>\n",
              "      <td>Haryana</td>\n",
              "      <td>Recovered</td>\n",
              "      <td>4.0</td>\n",
              "      <td>3.0</td>\n",
              "      <td>2020.0</td>\n",
              "    </tr>\n",
              "    <tr>\n",
              "      <th>10</th>\n",
              "      <td>1.0</td>\n",
              "      <td>04/03/2020</td>\n",
              "      <td>55</td>\n",
              "      <td>NaN</td>\n",
              "      <td>Gurugram</td>\n",
              "      <td>Italians</td>\n",
              "      <td>Haryana</td>\n",
              "      <td>Recovered</td>\n",
              "      <td>4.0</td>\n",
              "      <td>3.0</td>\n",
              "      <td>2020.0</td>\n",
              "    </tr>\n",
              "    <tr>\n",
              "      <th>11</th>\n",
              "      <td>1.0</td>\n",
              "      <td>04/03/2020</td>\n",
              "      <td>55</td>\n",
              "      <td>NaN</td>\n",
              "      <td>Gurugram</td>\n",
              "      <td>Italians</td>\n",
              "      <td>Haryana</td>\n",
              "      <td>Recovered</td>\n",
              "      <td>4.0</td>\n",
              "      <td>3.0</td>\n",
              "      <td>2020.0</td>\n",
              "    </tr>\n",
              "    <tr>\n",
              "      <th>12</th>\n",
              "      <td>1.0</td>\n",
              "      <td>04/03/2020</td>\n",
              "      <td>55</td>\n",
              "      <td>NaN</td>\n",
              "      <td>Gurugram</td>\n",
              "      <td>Italians</td>\n",
              "      <td>Haryana</td>\n",
              "      <td>Recovered</td>\n",
              "      <td>4.0</td>\n",
              "      <td>3.0</td>\n",
              "      <td>2020.0</td>\n",
              "    </tr>\n",
              "    <tr>\n",
              "      <th>13</th>\n",
              "      <td>1.0</td>\n",
              "      <td>04/03/2020</td>\n",
              "      <td>55</td>\n",
              "      <td>NaN</td>\n",
              "      <td>Gurugram</td>\n",
              "      <td>Italians</td>\n",
              "      <td>Haryana</td>\n",
              "      <td>Recovered</td>\n",
              "      <td>4.0</td>\n",
              "      <td>3.0</td>\n",
              "      <td>2020.0</td>\n",
              "    </tr>\n",
              "    <tr>\n",
              "      <th>14</th>\n",
              "      <td>1.0</td>\n",
              "      <td>04/03/2020</td>\n",
              "      <td>55</td>\n",
              "      <td>NaN</td>\n",
              "      <td>Gurugram</td>\n",
              "      <td>Italians</td>\n",
              "      <td>Haryana</td>\n",
              "      <td>Recovered</td>\n",
              "      <td>4.0</td>\n",
              "      <td>3.0</td>\n",
              "      <td>2020.0</td>\n",
              "    </tr>\n",
              "    <tr>\n",
              "      <th>15</th>\n",
              "      <td>1.0</td>\n",
              "      <td>04/03/2020</td>\n",
              "      <td>55</td>\n",
              "      <td>NaN</td>\n",
              "      <td>Gurugram</td>\n",
              "      <td>Italians</td>\n",
              "      <td>Haryana</td>\n",
              "      <td>Recovered</td>\n",
              "      <td>4.0</td>\n",
              "      <td>3.0</td>\n",
              "      <td>2020.0</td>\n",
              "    </tr>\n",
              "    <tr>\n",
              "      <th>16</th>\n",
              "      <td>1.0</td>\n",
              "      <td>04/03/2020</td>\n",
              "      <td>55</td>\n",
              "      <td>NaN</td>\n",
              "      <td>Gurugram</td>\n",
              "      <td>Italians</td>\n",
              "      <td>Haryana</td>\n",
              "      <td>Recovered</td>\n",
              "      <td>4.0</td>\n",
              "      <td>3.0</td>\n",
              "      <td>2020.0</td>\n",
              "    </tr>\n",
              "    <tr>\n",
              "      <th>17</th>\n",
              "      <td>1.0</td>\n",
              "      <td>04/03/2020</td>\n",
              "      <td>55</td>\n",
              "      <td>NaN</td>\n",
              "      <td>Gurugram</td>\n",
              "      <td>Italians</td>\n",
              "      <td>Haryana</td>\n",
              "      <td>Recovered</td>\n",
              "      <td>4.0</td>\n",
              "      <td>3.0</td>\n",
              "      <td>2020.0</td>\n",
              "    </tr>\n",
              "    <tr>\n",
              "      <th>18</th>\n",
              "      <td>1.0</td>\n",
              "      <td>04/03/2020</td>\n",
              "      <td>55</td>\n",
              "      <td>NaN</td>\n",
              "      <td>Gurugram</td>\n",
              "      <td>Italians</td>\n",
              "      <td>Haryana</td>\n",
              "      <td>Hospitalized</td>\n",
              "      <td>4.0</td>\n",
              "      <td>3.0</td>\n",
              "      <td>2020.0</td>\n",
              "    </tr>\n",
              "    <tr>\n",
              "      <th>19</th>\n",
              "      <td>1.0</td>\n",
              "      <td>04/03/2020</td>\n",
              "      <td>55</td>\n",
              "      <td>NaN</td>\n",
              "      <td>Gurugram</td>\n",
              "      <td>Italians</td>\n",
              "      <td>Haryana</td>\n",
              "      <td>Hospitalized</td>\n",
              "      <td>4.0</td>\n",
              "      <td>3.0</td>\n",
              "      <td>2020.0</td>\n",
              "    </tr>\n",
              "  </tbody>\n",
              "</table>\n",
              "</div>"
            ],
            "text/plain": [
              "    Num Cases Date Announced Age Bracket  ...   Day Month    Year\n",
              "0         1.0     30/01/2020          20  ...  30.0   1.0  2020.0\n",
              "1         1.0     02/02/2020         NaN  ...   2.0   2.0  2020.0\n",
              "2         1.0     03/02/2020         NaN  ...   3.0   2.0  2020.0\n",
              "3         1.0     02/03/2020          45  ...   2.0   3.0  2020.0\n",
              "4         1.0     02/03/2020          24  ...   2.0   3.0  2020.0\n",
              "5         1.0     03/03/2020          69  ...   3.0   3.0  2020.0\n",
              "6         1.0     04/03/2020          55  ...   4.0   3.0  2020.0\n",
              "7         1.0     04/03/2020          55  ...   4.0   3.0  2020.0\n",
              "8         1.0     04/03/2020          55  ...   4.0   3.0  2020.0\n",
              "9         1.0     04/03/2020          55  ...   4.0   3.0  2020.0\n",
              "10        1.0     04/03/2020          55  ...   4.0   3.0  2020.0\n",
              "11        1.0     04/03/2020          55  ...   4.0   3.0  2020.0\n",
              "12        1.0     04/03/2020          55  ...   4.0   3.0  2020.0\n",
              "13        1.0     04/03/2020          55  ...   4.0   3.0  2020.0\n",
              "14        1.0     04/03/2020          55  ...   4.0   3.0  2020.0\n",
              "15        1.0     04/03/2020          55  ...   4.0   3.0  2020.0\n",
              "16        1.0     04/03/2020          55  ...   4.0   3.0  2020.0\n",
              "17        1.0     04/03/2020          55  ...   4.0   3.0  2020.0\n",
              "18        1.0     04/03/2020          55  ...   4.0   3.0  2020.0\n",
              "19        1.0     04/03/2020          55  ...   4.0   3.0  2020.0\n",
              "\n",
              "[20 rows x 11 columns]"
            ]
          },
          "metadata": {
            "tags": []
          },
          "execution_count": 27
        }
      ]
    },
    {
      "cell_type": "code",
      "metadata": {
        "colab": {
          "base_uri": "https://localhost:8080/",
          "height": 406
        },
        "id": "4IxXl8_0FUZm",
        "outputId": "06376b53-11bf-4b5f-b31c-ae6d6dd5b32f"
      },
      "source": [
        "data.isnull()"
      ],
      "execution_count": null,
      "outputs": [
        {
          "output_type": "execute_result",
          "data": {
            "text/html": [
              "<div>\n",
              "<style scoped>\n",
              "    .dataframe tbody tr th:only-of-type {\n",
              "        vertical-align: middle;\n",
              "    }\n",
              "\n",
              "    .dataframe tbody tr th {\n",
              "        vertical-align: top;\n",
              "    }\n",
              "\n",
              "    .dataframe thead th {\n",
              "        text-align: right;\n",
              "    }\n",
              "</style>\n",
              "<table border=\"1\" class=\"dataframe\">\n",
              "  <thead>\n",
              "    <tr style=\"text-align: right;\">\n",
              "      <th></th>\n",
              "      <th>Num Cases</th>\n",
              "      <th>Date Announced</th>\n",
              "      <th>Age Bracket</th>\n",
              "      <th>Gender</th>\n",
              "      <th>Detected City</th>\n",
              "      <th>Detected District</th>\n",
              "      <th>Detected State</th>\n",
              "      <th>Current Status</th>\n",
              "      <th>Day</th>\n",
              "      <th>Month</th>\n",
              "      <th>Year</th>\n",
              "    </tr>\n",
              "  </thead>\n",
              "  <tbody>\n",
              "    <tr>\n",
              "      <th>0</th>\n",
              "      <td>False</td>\n",
              "      <td>False</td>\n",
              "      <td>False</td>\n",
              "      <td>False</td>\n",
              "      <td>False</td>\n",
              "      <td>False</td>\n",
              "      <td>False</td>\n",
              "      <td>False</td>\n",
              "      <td>False</td>\n",
              "      <td>False</td>\n",
              "      <td>False</td>\n",
              "    </tr>\n",
              "    <tr>\n",
              "      <th>1</th>\n",
              "      <td>False</td>\n",
              "      <td>False</td>\n",
              "      <td>True</td>\n",
              "      <td>True</td>\n",
              "      <td>False</td>\n",
              "      <td>False</td>\n",
              "      <td>False</td>\n",
              "      <td>False</td>\n",
              "      <td>False</td>\n",
              "      <td>False</td>\n",
              "      <td>False</td>\n",
              "    </tr>\n",
              "    <tr>\n",
              "      <th>2</th>\n",
              "      <td>False</td>\n",
              "      <td>False</td>\n",
              "      <td>True</td>\n",
              "      <td>True</td>\n",
              "      <td>False</td>\n",
              "      <td>False</td>\n",
              "      <td>False</td>\n",
              "      <td>False</td>\n",
              "      <td>False</td>\n",
              "      <td>False</td>\n",
              "      <td>False</td>\n",
              "    </tr>\n",
              "    <tr>\n",
              "      <th>3</th>\n",
              "      <td>False</td>\n",
              "      <td>False</td>\n",
              "      <td>False</td>\n",
              "      <td>False</td>\n",
              "      <td>False</td>\n",
              "      <td>False</td>\n",
              "      <td>False</td>\n",
              "      <td>False</td>\n",
              "      <td>False</td>\n",
              "      <td>False</td>\n",
              "      <td>False</td>\n",
              "    </tr>\n",
              "    <tr>\n",
              "      <th>4</th>\n",
              "      <td>False</td>\n",
              "      <td>False</td>\n",
              "      <td>False</td>\n",
              "      <td>False</td>\n",
              "      <td>False</td>\n",
              "      <td>False</td>\n",
              "      <td>False</td>\n",
              "      <td>False</td>\n",
              "      <td>False</td>\n",
              "      <td>False</td>\n",
              "      <td>False</td>\n",
              "    </tr>\n",
              "    <tr>\n",
              "      <th>...</th>\n",
              "      <td>...</td>\n",
              "      <td>...</td>\n",
              "      <td>...</td>\n",
              "      <td>...</td>\n",
              "      <td>...</td>\n",
              "      <td>...</td>\n",
              "      <td>...</td>\n",
              "      <td>...</td>\n",
              "      <td>...</td>\n",
              "      <td>...</td>\n",
              "      <td>...</td>\n",
              "    </tr>\n",
              "    <tr>\n",
              "      <th>556887</th>\n",
              "      <td>False</td>\n",
              "      <td>False</td>\n",
              "      <td>True</td>\n",
              "      <td>True</td>\n",
              "      <td>True</td>\n",
              "      <td>False</td>\n",
              "      <td>False</td>\n",
              "      <td>False</td>\n",
              "      <td>False</td>\n",
              "      <td>False</td>\n",
              "      <td>False</td>\n",
              "    </tr>\n",
              "    <tr>\n",
              "      <th>556888</th>\n",
              "      <td>False</td>\n",
              "      <td>False</td>\n",
              "      <td>True</td>\n",
              "      <td>True</td>\n",
              "      <td>True</td>\n",
              "      <td>False</td>\n",
              "      <td>False</td>\n",
              "      <td>False</td>\n",
              "      <td>False</td>\n",
              "      <td>False</td>\n",
              "      <td>False</td>\n",
              "    </tr>\n",
              "    <tr>\n",
              "      <th>556889</th>\n",
              "      <td>False</td>\n",
              "      <td>False</td>\n",
              "      <td>True</td>\n",
              "      <td>True</td>\n",
              "      <td>True</td>\n",
              "      <td>False</td>\n",
              "      <td>False</td>\n",
              "      <td>False</td>\n",
              "      <td>False</td>\n",
              "      <td>False</td>\n",
              "      <td>False</td>\n",
              "    </tr>\n",
              "    <tr>\n",
              "      <th>556890</th>\n",
              "      <td>False</td>\n",
              "      <td>False</td>\n",
              "      <td>True</td>\n",
              "      <td>True</td>\n",
              "      <td>True</td>\n",
              "      <td>False</td>\n",
              "      <td>False</td>\n",
              "      <td>False</td>\n",
              "      <td>False</td>\n",
              "      <td>False</td>\n",
              "      <td>False</td>\n",
              "    </tr>\n",
              "    <tr>\n",
              "      <th>556891</th>\n",
              "      <td>False</td>\n",
              "      <td>False</td>\n",
              "      <td>True</td>\n",
              "      <td>True</td>\n",
              "      <td>True</td>\n",
              "      <td>False</td>\n",
              "      <td>False</td>\n",
              "      <td>False</td>\n",
              "      <td>False</td>\n",
              "      <td>False</td>\n",
              "      <td>False</td>\n",
              "    </tr>\n",
              "  </tbody>\n",
              "</table>\n",
              "<p>556892 rows × 11 columns</p>\n",
              "</div>"
            ],
            "text/plain": [
              "        Num Cases  Date Announced  Age Bracket  ...    Day  Month   Year\n",
              "0           False           False        False  ...  False  False  False\n",
              "1           False           False         True  ...  False  False  False\n",
              "2           False           False         True  ...  False  False  False\n",
              "3           False           False        False  ...  False  False  False\n",
              "4           False           False        False  ...  False  False  False\n",
              "...           ...             ...          ...  ...    ...    ...    ...\n",
              "556887      False           False         True  ...  False  False  False\n",
              "556888      False           False         True  ...  False  False  False\n",
              "556889      False           False         True  ...  False  False  False\n",
              "556890      False           False         True  ...  False  False  False\n",
              "556891      False           False         True  ...  False  False  False\n",
              "\n",
              "[556892 rows x 11 columns]"
            ]
          },
          "metadata": {
            "tags": []
          },
          "execution_count": 7
        }
      ]
    },
    {
      "cell_type": "code",
      "metadata": {
        "colab": {
          "base_uri": "https://localhost:8080/"
        },
        "id": "yZ8exLPPFk1f",
        "outputId": "d2ccb981-b3f8-4e16-f2e4-832c72bddc35"
      },
      "source": [
        "data.isnull().sum()"
      ],
      "execution_count": null,
      "outputs": [
        {
          "output_type": "execute_result",
          "data": {
            "text/plain": [
              "Num Cases                19\n",
              "Date Announced            7\n",
              "Age Bracket          437401\n",
              "Gender               433057\n",
              "Detected City        540276\n",
              "Detected District     15694\n",
              "Detected State           23\n",
              "Current Status           13\n",
              "Day                       7\n",
              "Month                     7\n",
              "Year                      7\n",
              "dtype: int64"
            ]
          },
          "metadata": {
            "tags": []
          },
          "execution_count": 8
        }
      ]
    },
    {
      "cell_type": "code",
      "metadata": {
        "colab": {
          "base_uri": "https://localhost:8080/"
        },
        "id": "9xUAALtJGPP5",
        "outputId": "8498b645-92ce-4174-e912-1792a5efb29a"
      },
      "source": [
        "round(data.isnull().sum(axis=0).sort_values(ascending=False)/len(data)*100,4)"
      ],
      "execution_count": null,
      "outputs": [
        {
          "output_type": "execute_result",
          "data": {
            "text/plain": [
              "Detected City        97.0163\n",
              "Age Bracket          78.5432\n",
              "Gender               77.7632\n",
              "Detected District     2.8181\n",
              "Detected State        0.0041\n",
              "Num Cases             0.0034\n",
              "Current Status        0.0023\n",
              "Year                  0.0013\n",
              "Month                 0.0013\n",
              "Day                   0.0013\n",
              "Date Announced        0.0013\n",
              "dtype: float64"
            ]
          },
          "metadata": {
            "tags": []
          },
          "execution_count": 9
        }
      ]
    },
    {
      "cell_type": "code",
      "metadata": {
        "colab": {
          "base_uri": "https://localhost:8080/"
        },
        "id": "bhQJ4hXhGwvh",
        "outputId": "0afc4be6-be10-4555-a331-728d57b6e86a"
      },
      "source": [
        "data.isnull().sum(axis=1).sort_values(ascending=False)"
      ],
      "execution_count": null,
      "outputs": [
        {
          "output_type": "execute_result",
          "data": {
            "text/plain": [
              "422317    11\n",
              "242262    11\n",
              "288843    11\n",
              "422316    11\n",
              "422318    11\n",
              "          ..\n",
              "122640     0\n",
              "122639     0\n",
              "122638     0\n",
              "122637     0\n",
              "0          0\n",
              "Length: 556892, dtype: int64"
            ]
          },
          "metadata": {
            "tags": []
          },
          "execution_count": 10
        }
      ]
    },
    {
      "cell_type": "code",
      "metadata": {
        "colab": {
          "base_uri": "https://localhost:8080/"
        },
        "id": "ZYFrc6NyHEmC",
        "outputId": "625d990c-f06a-4549-d98d-bcc37af9d160"
      },
      "source": [
        "data.groupby([\"Month\",\"Year\"])['Num Cases'].sum()"
      ],
      "execution_count": null,
      "outputs": [
        {
          "output_type": "execute_result",
          "data": {
            "text/plain": [
              "Month  Year  \n",
              "1.0    2020.0          2.0\n",
              "       2021.0    1031650.0\n",
              "2.0    2020.0          4.0\n",
              "       2021.0     706823.0\n",
              "3.0    2020.0       3267.0\n",
              "       2021.0     214260.0\n",
              "4.0    2020.0      51749.0\n",
              "5.0    2020.0     242853.0\n",
              "6.0    2020.0     663181.0\n",
              "7.0    2020.0    1878471.0\n",
              "8.0    2020.0    3761763.0\n",
              "9.0    2020.0    5088546.0\n",
              "10.0   2020.0    4116679.0\n",
              "11.0   2020.0    2695136.0\n",
              "12.0   2020.0    1828219.0\n",
              "Name: Num Cases, dtype: float64"
            ]
          },
          "metadata": {
            "tags": []
          },
          "execution_count": 11
        }
      ]
    },
    {
      "cell_type": "code",
      "metadata": {
        "colab": {
          "base_uri": "https://localhost:8080/"
        },
        "id": "k0koFqgAMAvk",
        "outputId": "1db14e44-0996-477a-ea1b-d9a2bc6afc11"
      },
      "source": [
        "M=data[data['Current Status']=='Hospitalized'].groupby([\"Month\",\"Year\"])['Num Cases'].sum()\n",
        "M"
      ],
      "execution_count": null,
      "outputs": [
        {
          "output_type": "execute_result",
          "data": {
            "text/plain": [
              "Month  Year  \n",
              "1.0    2021.0     472317.0\n",
              "2.0    2021.0     353425.0\n",
              "3.0    2020.0       2862.0\n",
              "       2021.0     117215.0\n",
              "4.0    2020.0      48856.0\n",
              "5.0    2020.0     155781.0\n",
              "6.0    2020.0     395143.0\n",
              "7.0    2020.0    1111263.0\n",
              "8.0    2020.0    1990888.0\n",
              "9.0    2020.0    2622324.0\n",
              "10.0   2020.0    1873130.0\n",
              "11.0   2020.0    1279860.0\n",
              "12.0   2020.0     823056.0\n",
              "Name: Num Cases, dtype: float64"
            ]
          },
          "metadata": {
            "tags": []
          },
          "execution_count": 12
        }
      ]
    },
    {
      "cell_type": "code",
      "metadata": {
        "colab": {
          "base_uri": "https://localhost:8080/",
          "height": 351
        },
        "id": "bn-yRCfLTSLO",
        "outputId": "1650e83a-316e-4d81-aa9f-c0ee07cd0c9e"
      },
      "source": [
        "M.plot.bar()\n",
        "plt.show()"
      ],
      "execution_count": null,
      "outputs": [
        {
          "output_type": "display_data",
          "data": {
            "image/png": "[encoded data removed]",
            "text/plain": [
              "<Figure size 432x288 with 1 Axes>"
            ]
          },
          "metadata": {
            "tags": [],
            "needs_background": "light"
          }
        }
      ]
    },
    {
      "cell_type": "code",
      "metadata": {
        "id": "MTr6ubpVXxNv"
      },
      "source": [
        "data['Gender']=data['Gender'].replace(['M,'],['M'])\n",
        "data['Gender']=data['Gender'].replace(['M '],['M'])\n",
        "data['Gender']=data['Gender'].replace(['Femal e'],['F'])"
      ],
      "execution_count": null,
      "outputs": []
    },
    {
      "cell_type": "code",
      "metadata": {
        "colab": {
          "base_uri": "https://localhost:8080/"
        },
        "id": "YR2ybUkkWlEd",
        "outputId": "d4715cba-3901-498b-f5d4-26ae16fe5fd8"
      },
      "source": [
        "G=data.groupby('Gender')['Num Cases'].sum()\n",
        "G"
      ],
      "execution_count": null,
      "outputs": [
        {
          "output_type": "execute_result",
          "data": {
            "text/plain": [
              "Gender\n",
              "F             43192.0\n",
              "M             82268.0\n",
              "Non-Binary       18.0\n",
              "Name: Num Cases, dtype: float64"
            ]
          },
          "metadata": {
            "tags": []
          },
          "execution_count": 15
        }
      ]
    },
    {
      "cell_type": "code",
      "metadata": {
        "colab": {
          "base_uri": "https://localhost:8080/",
          "height": 324
        },
        "id": "juMmBVh3XAQE",
        "outputId": "5d04c3ec-e275-4553-f61e-14bee8eb6b04"
      },
      "source": [
        "G.plot.bar()\n",
        "plt.show()"
      ],
      "execution_count": null,
      "outputs": [
        {
          "output_type": "display_data",
          "data": {
            "image/png": "[encoded data removed]",
            "text/plain": [
              "<Figure size 432x288 with 1 Axes>"
            ]
          },
          "metadata": {
            "tags": [],
            "needs_background": "light"
          }
        }
      ]
    },
    {
      "cell_type": "code",
      "metadata": {
        "id": "HGP53Ix_aE7l"
      },
      "source": [
        "data['Age Bracket']=data['Age Bracket'].replace(['40'],['40.0'])\n",
        "data['Age Bracket']=data['Age Bracket'].replace(['30'],['30.0'])\n",
        "data['Age Bracket']=data['Age Bracket'].replace(['35'],['35.0'])\n",
        "data['Age Bracket']=data['Age Bracket'].replace(['45'],['45.0'])\n",
        "data['Age Bracket']=data['Age Bracket'].replace(['25'],['25.0'])\n",
        "data['Age Bracket']=data['Age Bracket'].replace(['32'],['32.0'])\n",
        "data['Age Bracket']=data['Age Bracket'].replace(['28'],['28.0'])\n",
        "data['Age Bracket']=data['Age Bracket'].replace(['26'],['26.0'])\n",
        "data['Age Bracket']=data['Age Bracket'].replace(['55'],['55.0'])\n",
        "data['Age Bracket']=data['Age Bracket'].replace(['50'],['50.0'])"
      ],
      "execution_count": null,
      "outputs": []
    },
    {
      "cell_type": "code",
      "metadata": {
        "colab": {
          "base_uri": "https://localhost:8080/"
        },
        "id": "NLvtQVJ9YsYb",
        "outputId": "f21fedde-4836-48cf-a49f-c0542adae893"
      },
      "source": [
        "A=data.groupby('Age Bracket')['Num Cases'].sum().sort_values(ascending=False).head(10)\n",
        "A"
      ],
      "execution_count": null,
      "outputs": [
        {
          "output_type": "execute_result",
          "data": {
            "text/plain": [
              "Age Bracket\n",
              "30.0    3749.0\n",
              "40.0    3390.0\n",
              "35.0    3382.0\n",
              "45.0    3181.0\n",
              "25.0    3120.0\n",
              "32.0    3048.0\n",
              "28.0    2921.0\n",
              "26.0    2742.0\n",
              "50.0    2721.0\n",
              "55.0    2630.0\n",
              "Name: Num Cases, dtype: float64"
            ]
          },
          "metadata": {
            "tags": []
          },
          "execution_count": 18
        }
      ]
    },
    {
      "cell_type": "code",
      "metadata": {
        "colab": {
          "base_uri": "https://localhost:8080/",
          "height": 345
        },
        "id": "18LdwUHlbECl",
        "outputId": "017e9db3-94f8-4d10-e307-2ca192dfa07c"
      },
      "source": [
        "A.plot.bar(figsize=(15,5))\n",
        "plt.show()"
      ],
      "execution_count": null,
      "outputs": [
        {
          "output_type": "display_data",
          "data": {
            "image/png": "[encoded data removed]",
            "text/plain": [
              "<Figure size 1080x360 with 1 Axes>"
            ]
          },
          "metadata": {
            "tags": [],
            "needs_background": "light"
          }
        }
      ]
    },
    {
      "cell_type": "code",
      "metadata": {
        "colab": {
          "base_uri": "https://localhost:8080/"
        },
        "id": "onvsDE2qdkMp",
        "outputId": "b7b0eaeb-6b28-4be3-b547-93a537c638f2"
      },
      "source": [
        "S=data[data['Current Status']=='Hospitalized'].groupby([\"Detected State\"])['Num Cases'].sum().sort_values(ascending=False)\n",
        "S"
      ],
      "execution_count": null,
      "outputs": [
        {
          "output_type": "execute_result",
          "data": {
            "text/plain": [
              "Detected State\n",
              "Maharashtra                                 2223899.0\n",
              "Kerala                                      1077608.0\n",
              "Karnataka                                    955261.0\n",
              "Andhra Pradesh                               891335.0\n",
              "Tamil Nadu                                   856584.0\n",
              "Delhi                                        643096.0\n",
              "Uttar Pradesh                                605361.0\n",
              "West Bengal                                  576921.0\n",
              "Odisha                                       337803.0\n",
              "Rajasthan                                    323002.0\n",
              "Chhattisgarh                                 314340.0\n",
              "Telangana                                    300754.0\n",
              "Gujarat                                      275119.0\n",
              "Haryana                                      272746.0\n",
              "Madhya Pradesh                               266044.0\n",
              "Bihar                                        262852.0\n",
              "Assam                                        217703.0\n",
              "Punjab                                       188631.0\n",
              "Jammu and Kashmir                            127396.0\n",
              "Jharkhand                                    120300.0\n",
              "Uttarakhand                                   97464.0\n",
              "Himachal Pradesh                              59153.0\n",
              "Goa                                           55416.0\n",
              "Puducherry                                    39875.0\n",
              "Tripura                                       33423.0\n",
              "Manipur                                       29291.0\n",
              "Chandigarh                                    22344.0\n",
              "Arunachal Pradesh                             16840.0\n",
              "Meghalaya                                     13983.0\n",
              "Nagaland                                      12217.0\n",
              "Ladakh                                         9849.0\n",
              "Sikkim                                         6174.0\n",
              "Andaman and Nicobar Islands                    5017.0\n",
              "Mizoram                                        4429.0\n",
              "Dadra and Nagar Haveli and Daman and Diu       3401.0\n",
              "Lakshadweep                                     487.0\n",
              "State Unassigned                                  0.0\n",
              "Name: Num Cases, dtype: float64"
            ]
          },
          "metadata": {
            "tags": []
          },
          "execution_count": 20
        }
      ]
    },
    {
      "cell_type": "code",
      "metadata": {
        "colab": {
          "base_uri": "https://localhost:8080/",
          "height": 557
        },
        "id": "_6D6WM_lc38P",
        "outputId": "0a12e08a-8523-465e-822b-75e635b66f91"
      },
      "source": [
        "S.plot.bar(figsize=(15,5))\n",
        "plt.show()"
      ],
      "execution_count": null,
      "outputs": [
        {
          "output_type": "display_data",
          "data": {
            "image/png": "[encoded data removed]",
            "text/plain": [
              "<Figure size 1080x360 with 1 Axes>"
            ]
          },
          "metadata": {
            "tags": [],
            "needs_background": "light"
          }
        }
      ]
    },
    {
      "cell_type": "code",
      "metadata": {
        "colab": {
          "base_uri": "https://localhost:8080/"
        },
        "id": "-N0RfZZrfHdZ",
        "outputId": "45a0bf7e-1327-427d-89ea-3113e475c9b6"
      },
      "source": [
        "Day=data[data['Current Status']=='Hospitalized'].groupby([\"Month\",\"Day\",\"Year\"])['Num Cases'].sum()\n",
        "Day"
      ],
      "execution_count": null,
      "outputs": [
        {
          "output_type": "execute_result",
          "data": {
            "text/plain": [
              "Month  Day   Year  \n",
              "1.0    1.0   2021.0    20159.0\n",
              "       2.0   2021.0    18144.0\n",
              "       3.0   2021.0    16678.0\n",
              "       4.0   2021.0    16278.0\n",
              "       5.0   2021.0    17909.0\n",
              "                        ...   \n",
              "12.0   27.0  2020.0    20333.0\n",
              "       28.0  2020.0    16072.0\n",
              "       29.0  2020.0    20542.0\n",
              "       30.0  2020.0    21945.0\n",
              "       31.0  2020.0    19026.0\n",
              "Name: Num Cases, Length: 367, dtype: float64"
            ]
          },
          "metadata": {
            "tags": []
          },
          "execution_count": 22
        }
      ]
    },
    {
      "cell_type": "code",
      "metadata": {
        "colab": {
          "base_uri": "https://localhost:8080/",
          "height": 1000
        },
        "id": "CAKdYaRefWB1",
        "outputId": "d34d2f27-c2e6-49f6-cc41-92d0b34980ab"
      },
      "source": [
        "Day.unstack(level=0).plot(kind='bar',subplots=True,figsize=(20,20))\n",
        "plt.show()"
      ],
      "execution_count": null,
      "outputs": [
        {
          "output_type": "display_data",
          "data": {
            "image/png": "[encoded data removed]",
            "text/plain": [
              "<Figure size 1440x1440 with 12 Axes>"
            ]
          },
          "metadata": {
            "tags": [],
            "needs_background": "light"
          }
        }
      ]
    },
    {
      "cell_type": "code",
      "metadata": {
        "colab": {
          "base_uri": "https://localhost:8080/"
        },
        "id": "pEi5c2e7jQAF",
        "outputId": "1397b622-461f-47c7-b2e5-c102c80ed606"
      },
      "source": [
        "data['Current Status'].unique()"
      ],
      "execution_count": null,
      "outputs": [
        {
          "output_type": "execute_result",
          "data": {
            "text/plain": [
              "array(['Recovered', 'Hospitalized', 'Deceased', 'Migrated',\n",
              "       'Migrated_Other', nan, 'Migrated_other', 'hospitalized'],\n",
              "      dtype=object)"
            ]
          },
          "metadata": {
            "tags": []
          },
          "execution_count": 24
        }
      ]
    },
    {
      "cell_type": "code",
      "metadata": {
        "id": "9EQorznl5LVb"
      },
      "source": [
        "data[data['Current Status']=='Deceased']"
      ],
      "execution_count": null,
      "outputs": []
    }
  ]
}
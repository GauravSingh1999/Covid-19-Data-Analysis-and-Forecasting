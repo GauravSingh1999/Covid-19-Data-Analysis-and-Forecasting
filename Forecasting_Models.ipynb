{
  "nbformat": 4,
  "nbformat_minor": 0,
  "metadata": {
    "colab": {
      "name": "Forecasting Models.ipynb",
      "provenance": []
    },
    "kernelspec": {
      "name": "python3",
      "display_name": "Python 3"
    }
  },
  "cells": [
    {
      "cell_type": "code",
      "metadata": {
        "id": "HXlwArAH3lAW"
      },
      "source": [
        "import pandas as pd\n",
        "import numpy as np\n",
        "import matplotlib.pyplot as plt"
      ],
      "execution_count": null,
      "outputs": []
    },
    {
      "cell_type": "code",
      "metadata": {
        "colab": {
          "base_uri": "https://localhost:8080/"
        },
        "id": "ivFcQE253y4T",
        "outputId": "df693fd9-9c70-49e1-8a62-192e070aeefa"
      },
      "source": [
        "df=pd.read_csv('/content/drive/MyDrive/Major/Covid19_India.csv')"
      ],
      "execution_count": null,
      "outputs": [
        {
          "output_type": "stream",
          "text": [
            "/usr/local/lib/python3.7/dist-packages/IPython/core/interactiveshell.py:2718: DtypeWarning: Columns (3) have mixed types.Specify dtype option on import or set low_memory=False.\n",
            "  interactivity=interactivity, compiler=compiler, result=result)\n"
          ],
          "name": "stderr"
        }
      ]
    },
    {
      "cell_type": "code",
      "metadata": {
        "colab": {
          "base_uri": "https://localhost:8080/",
          "height": 947
        },
        "id": "s-CsCIr037a3",
        "outputId": "88e23245-d769-4ef6-ca92-c288387a8246"
      },
      "source": [
        "data=df.iloc[:,1:]\n",
        "data.head(30)"
      ],
      "execution_count": null,
      "outputs": [
        {
          "output_type": "execute_result",
          "data": {
            "text/html": [
              "<div>\n",
              "<style scoped>\n",
              "    .dataframe tbody tr th:only-of-type {\n",
              "        vertical-align: middle;\n",
              "    }\n",
              "\n",
              "    .dataframe tbody tr th {\n",
              "        vertical-align: top;\n",
              "    }\n",
              "\n",
              "    .dataframe thead th {\n",
              "        text-align: right;\n",
              "    }\n",
              "</style>\n",
              "<table border=\"1\" class=\"dataframe\">\n",
              "  <thead>\n",
              "    <tr style=\"text-align: right;\">\n",
              "      <th></th>\n",
              "      <th>Num Cases</th>\n",
              "      <th>Date Announced</th>\n",
              "      <th>Age Bracket</th>\n",
              "      <th>Gender</th>\n",
              "      <th>Detected City</th>\n",
              "      <th>Detected District</th>\n",
              "      <th>Detected State</th>\n",
              "      <th>Current Status</th>\n",
              "      <th>Day</th>\n",
              "      <th>Month</th>\n",
              "      <th>Year</th>\n",
              "    </tr>\n",
              "  </thead>\n",
              "  <tbody>\n",
              "    <tr>\n",
              "      <th>0</th>\n",
              "      <td>1.0</td>\n",
              "      <td>30/01/2020</td>\n",
              "      <td>20</td>\n",
              "      <td>F</td>\n",
              "      <td>Thrissur</td>\n",
              "      <td>Thrissur</td>\n",
              "      <td>Kerala</td>\n",
              "      <td>Recovered</td>\n",
              "      <td>30.0</td>\n",
              "      <td>1.0</td>\n",
              "      <td>2020.0</td>\n",
              "    </tr>\n",
              "    <tr>\n",
              "      <th>1</th>\n",
              "      <td>1.0</td>\n",
              "      <td>02/02/2020</td>\n",
              "      <td>NaN</td>\n",
              "      <td>NaN</td>\n",
              "      <td>Alappuzha</td>\n",
              "      <td>Alappuzha</td>\n",
              "      <td>Kerala</td>\n",
              "      <td>Recovered</td>\n",
              "      <td>2.0</td>\n",
              "      <td>2.0</td>\n",
              "      <td>2020.0</td>\n",
              "    </tr>\n",
              "    <tr>\n",
              "      <th>2</th>\n",
              "      <td>1.0</td>\n",
              "      <td>03/02/2020</td>\n",
              "      <td>NaN</td>\n",
              "      <td>NaN</td>\n",
              "      <td>Kasaragod</td>\n",
              "      <td>Kasaragod</td>\n",
              "      <td>Kerala</td>\n",
              "      <td>Recovered</td>\n",
              "      <td>3.0</td>\n",
              "      <td>2.0</td>\n",
              "      <td>2020.0</td>\n",
              "    </tr>\n",
              "    <tr>\n",
              "      <th>3</th>\n",
              "      <td>1.0</td>\n",
              "      <td>02/03/2020</td>\n",
              "      <td>45</td>\n",
              "      <td>M</td>\n",
              "      <td>East Delhi (Mayur Vihar)</td>\n",
              "      <td>East Delhi</td>\n",
              "      <td>Delhi</td>\n",
              "      <td>Recovered</td>\n",
              "      <td>2.0</td>\n",
              "      <td>3.0</td>\n",
              "      <td>2020.0</td>\n",
              "    </tr>\n",
              "    <tr>\n",
              "      <th>4</th>\n",
              "      <td>1.0</td>\n",
              "      <td>02/03/2020</td>\n",
              "      <td>24</td>\n",
              "      <td>M</td>\n",
              "      <td>Hyderabad</td>\n",
              "      <td>Hyderabad</td>\n",
              "      <td>Telangana</td>\n",
              "      <td>Recovered</td>\n",
              "      <td>2.0</td>\n",
              "      <td>3.0</td>\n",
              "      <td>2020.0</td>\n",
              "    </tr>\n",
              "    <tr>\n",
              "      <th>5</th>\n",
              "      <td>1.0</td>\n",
              "      <td>03/03/2020</td>\n",
              "      <td>69</td>\n",
              "      <td>M</td>\n",
              "      <td>Jaipur</td>\n",
              "      <td>Italians</td>\n",
              "      <td>Rajasthan</td>\n",
              "      <td>Recovered</td>\n",
              "      <td>3.0</td>\n",
              "      <td>3.0</td>\n",
              "      <td>2020.0</td>\n",
              "    </tr>\n",
              "    <tr>\n",
              "      <th>6</th>\n",
              "      <td>1.0</td>\n",
              "      <td>04/03/2020</td>\n",
              "      <td>55</td>\n",
              "      <td>NaN</td>\n",
              "      <td>Gurugram</td>\n",
              "      <td>Italians</td>\n",
              "      <td>Haryana</td>\n",
              "      <td>Recovered</td>\n",
              "      <td>4.0</td>\n",
              "      <td>3.0</td>\n",
              "      <td>2020.0</td>\n",
              "    </tr>\n",
              "    <tr>\n",
              "      <th>7</th>\n",
              "      <td>1.0</td>\n",
              "      <td>04/03/2020</td>\n",
              "      <td>55</td>\n",
              "      <td>NaN</td>\n",
              "      <td>Gurugram</td>\n",
              "      <td>Italians</td>\n",
              "      <td>Haryana</td>\n",
              "      <td>Recovered</td>\n",
              "      <td>4.0</td>\n",
              "      <td>3.0</td>\n",
              "      <td>2020.0</td>\n",
              "    </tr>\n",
              "    <tr>\n",
              "      <th>8</th>\n",
              "      <td>1.0</td>\n",
              "      <td>04/03/2020</td>\n",
              "      <td>55</td>\n",
              "      <td>NaN</td>\n",
              "      <td>Gurugram</td>\n",
              "      <td>Italians</td>\n",
              "      <td>Haryana</td>\n",
              "      <td>Recovered</td>\n",
              "      <td>4.0</td>\n",
              "      <td>3.0</td>\n",
              "      <td>2020.0</td>\n",
              "    </tr>\n",
              "    <tr>\n",
              "      <th>9</th>\n",
              "      <td>1.0</td>\n",
              "      <td>04/03/2020</td>\n",
              "      <td>55</td>\n",
              "      <td>NaN</td>\n",
              "      <td>Gurugram</td>\n",
              "      <td>Italians</td>\n",
              "      <td>Haryana</td>\n",
              "      <td>Recovered</td>\n",
              "      <td>4.0</td>\n",
              "      <td>3.0</td>\n",
              "      <td>2020.0</td>\n",
              "    </tr>\n",
              "    <tr>\n",
              "      <th>10</th>\n",
              "      <td>1.0</td>\n",
              "      <td>04/03/2020</td>\n",
              "      <td>55</td>\n",
              "      <td>NaN</td>\n",
              "      <td>Gurugram</td>\n",
              "      <td>Italians</td>\n",
              "      <td>Haryana</td>\n",
              "      <td>Recovered</td>\n",
              "      <td>4.0</td>\n",
              "      <td>3.0</td>\n",
              "      <td>2020.0</td>\n",
              "    </tr>\n",
              "    <tr>\n",
              "      <th>11</th>\n",
              "      <td>1.0</td>\n",
              "      <td>04/03/2020</td>\n",
              "      <td>55</td>\n",
              "      <td>NaN</td>\n",
              "      <td>Gurugram</td>\n",
              "      <td>Italians</td>\n",
              "      <td>Haryana</td>\n",
              "      <td>Recovered</td>\n",
              "      <td>4.0</td>\n",
              "      <td>3.0</td>\n",
              "      <td>2020.0</td>\n",
              "    </tr>\n",
              "    <tr>\n",
              "      <th>12</th>\n",
              "      <td>1.0</td>\n",
              "      <td>04/03/2020</td>\n",
              "      <td>55</td>\n",
              "      <td>NaN</td>\n",
              "      <td>Gurugram</td>\n",
              "      <td>Italians</td>\n",
              "      <td>Haryana</td>\n",
              "      <td>Recovered</td>\n",
              "      <td>4.0</td>\n",
              "      <td>3.0</td>\n",
              "      <td>2020.0</td>\n",
              "    </tr>\n",
              "    <tr>\n",
              "      <th>13</th>\n",
              "      <td>1.0</td>\n",
              "      <td>04/03/2020</td>\n",
              "      <td>55</td>\n",
              "      <td>NaN</td>\n",
              "      <td>Gurugram</td>\n",
              "      <td>Italians</td>\n",
              "      <td>Haryana</td>\n",
              "      <td>Recovered</td>\n",
              "      <td>4.0</td>\n",
              "      <td>3.0</td>\n",
              "      <td>2020.0</td>\n",
              "    </tr>\n",
              "    <tr>\n",
              "      <th>14</th>\n",
              "      <td>1.0</td>\n",
              "      <td>04/03/2020</td>\n",
              "      <td>55</td>\n",
              "      <td>NaN</td>\n",
              "      <td>Gurugram</td>\n",
              "      <td>Italians</td>\n",
              "      <td>Haryana</td>\n",
              "      <td>Recovered</td>\n",
              "      <td>4.0</td>\n",
              "      <td>3.0</td>\n",
              "      <td>2020.0</td>\n",
              "    </tr>\n",
              "    <tr>\n",
              "      <th>15</th>\n",
              "      <td>1.0</td>\n",
              "      <td>04/03/2020</td>\n",
              "      <td>55</td>\n",
              "      <td>NaN</td>\n",
              "      <td>Gurugram</td>\n",
              "      <td>Italians</td>\n",
              "      <td>Haryana</td>\n",
              "      <td>Recovered</td>\n",
              "      <td>4.0</td>\n",
              "      <td>3.0</td>\n",
              "      <td>2020.0</td>\n",
              "    </tr>\n",
              "    <tr>\n",
              "      <th>16</th>\n",
              "      <td>1.0</td>\n",
              "      <td>04/03/2020</td>\n",
              "      <td>55</td>\n",
              "      <td>NaN</td>\n",
              "      <td>Gurugram</td>\n",
              "      <td>Italians</td>\n",
              "      <td>Haryana</td>\n",
              "      <td>Recovered</td>\n",
              "      <td>4.0</td>\n",
              "      <td>3.0</td>\n",
              "      <td>2020.0</td>\n",
              "    </tr>\n",
              "    <tr>\n",
              "      <th>17</th>\n",
              "      <td>1.0</td>\n",
              "      <td>04/03/2020</td>\n",
              "      <td>55</td>\n",
              "      <td>NaN</td>\n",
              "      <td>Gurugram</td>\n",
              "      <td>Italians</td>\n",
              "      <td>Haryana</td>\n",
              "      <td>Recovered</td>\n",
              "      <td>4.0</td>\n",
              "      <td>3.0</td>\n",
              "      <td>2020.0</td>\n",
              "    </tr>\n",
              "    <tr>\n",
              "      <th>18</th>\n",
              "      <td>1.0</td>\n",
              "      <td>04/03/2020</td>\n",
              "      <td>55</td>\n",
              "      <td>NaN</td>\n",
              "      <td>Gurugram</td>\n",
              "      <td>Italians</td>\n",
              "      <td>Haryana</td>\n",
              "      <td>Hospitalized</td>\n",
              "      <td>4.0</td>\n",
              "      <td>3.0</td>\n",
              "      <td>2020.0</td>\n",
              "    </tr>\n",
              "    <tr>\n",
              "      <th>19</th>\n",
              "      <td>1.0</td>\n",
              "      <td>04/03/2020</td>\n",
              "      <td>55</td>\n",
              "      <td>NaN</td>\n",
              "      <td>Gurugram</td>\n",
              "      <td>Italians</td>\n",
              "      <td>Haryana</td>\n",
              "      <td>Hospitalized</td>\n",
              "      <td>4.0</td>\n",
              "      <td>3.0</td>\n",
              "      <td>2020.0</td>\n",
              "    </tr>\n",
              "    <tr>\n",
              "      <th>20</th>\n",
              "      <td>1.0</td>\n",
              "      <td>04/03/2020</td>\n",
              "      <td>70</td>\n",
              "      <td>F</td>\n",
              "      <td>Jaipur</td>\n",
              "      <td>Italians</td>\n",
              "      <td>Rajasthan</td>\n",
              "      <td>Recovered</td>\n",
              "      <td>4.0</td>\n",
              "      <td>3.0</td>\n",
              "      <td>2020.0</td>\n",
              "    </tr>\n",
              "    <tr>\n",
              "      <th>21</th>\n",
              "      <td>1.0</td>\n",
              "      <td>04/03/2020</td>\n",
              "      <td>NaN</td>\n",
              "      <td>M</td>\n",
              "      <td>Agra</td>\n",
              "      <td>Agra</td>\n",
              "      <td>Uttar Pradesh</td>\n",
              "      <td>Hospitalized</td>\n",
              "      <td>4.0</td>\n",
              "      <td>3.0</td>\n",
              "      <td>2020.0</td>\n",
              "    </tr>\n",
              "    <tr>\n",
              "      <th>22</th>\n",
              "      <td>1.0</td>\n",
              "      <td>04/03/2020</td>\n",
              "      <td>NaN</td>\n",
              "      <td>F</td>\n",
              "      <td>Agra</td>\n",
              "      <td>Agra</td>\n",
              "      <td>Uttar Pradesh</td>\n",
              "      <td>Recovered</td>\n",
              "      <td>4.0</td>\n",
              "      <td>3.0</td>\n",
              "      <td>2020.0</td>\n",
              "    </tr>\n",
              "    <tr>\n",
              "      <th>23</th>\n",
              "      <td>1.0</td>\n",
              "      <td>04/03/2020</td>\n",
              "      <td>45</td>\n",
              "      <td>F</td>\n",
              "      <td>Agra</td>\n",
              "      <td>Agra</td>\n",
              "      <td>Uttar Pradesh</td>\n",
              "      <td>Recovered</td>\n",
              "      <td>4.0</td>\n",
              "      <td>3.0</td>\n",
              "      <td>2020.0</td>\n",
              "    </tr>\n",
              "    <tr>\n",
              "      <th>24</th>\n",
              "      <td>1.0</td>\n",
              "      <td>04/03/2020</td>\n",
              "      <td>NaN</td>\n",
              "      <td>M</td>\n",
              "      <td>Agra</td>\n",
              "      <td>Agra</td>\n",
              "      <td>Uttar Pradesh</td>\n",
              "      <td>Recovered</td>\n",
              "      <td>4.0</td>\n",
              "      <td>3.0</td>\n",
              "      <td>2020.0</td>\n",
              "    </tr>\n",
              "    <tr>\n",
              "      <th>25</th>\n",
              "      <td>1.0</td>\n",
              "      <td>04/03/2020</td>\n",
              "      <td>16</td>\n",
              "      <td>M</td>\n",
              "      <td>Agra</td>\n",
              "      <td>Agra</td>\n",
              "      <td>Uttar Pradesh</td>\n",
              "      <td>Recovered</td>\n",
              "      <td>4.0</td>\n",
              "      <td>3.0</td>\n",
              "      <td>2020.0</td>\n",
              "    </tr>\n",
              "    <tr>\n",
              "      <th>26</th>\n",
              "      <td>1.0</td>\n",
              "      <td>04/03/2020</td>\n",
              "      <td>NaN</td>\n",
              "      <td>NaN</td>\n",
              "      <td>Agra</td>\n",
              "      <td>Agra</td>\n",
              "      <td>Uttar Pradesh</td>\n",
              "      <td>Hospitalized</td>\n",
              "      <td>4.0</td>\n",
              "      <td>3.0</td>\n",
              "      <td>2020.0</td>\n",
              "    </tr>\n",
              "    <tr>\n",
              "      <th>27</th>\n",
              "      <td>1.0</td>\n",
              "      <td>04/03/2020</td>\n",
              "      <td>NaN</td>\n",
              "      <td>NaN</td>\n",
              "      <td>NaN</td>\n",
              "      <td>Agra</td>\n",
              "      <td>Uttar Pradesh</td>\n",
              "      <td>Hospitalized</td>\n",
              "      <td>4.0</td>\n",
              "      <td>3.0</td>\n",
              "      <td>2020.0</td>\n",
              "    </tr>\n",
              "    <tr>\n",
              "      <th>28</th>\n",
              "      <td>1.0</td>\n",
              "      <td>05/03/2020</td>\n",
              "      <td>27</td>\n",
              "      <td>M</td>\n",
              "      <td>Janakpuri</td>\n",
              "      <td>South West Delhi</td>\n",
              "      <td>Delhi</td>\n",
              "      <td>Hospitalized</td>\n",
              "      <td>5.0</td>\n",
              "      <td>3.0</td>\n",
              "      <td>2020.0</td>\n",
              "    </tr>\n",
              "    <tr>\n",
              "      <th>29</th>\n",
              "      <td>1.0</td>\n",
              "      <td>05/03/2020</td>\n",
              "      <td>59</td>\n",
              "      <td>M</td>\n",
              "      <td>Ghaziabad</td>\n",
              "      <td>Ghaziabad</td>\n",
              "      <td>Uttar Pradesh</td>\n",
              "      <td>Recovered</td>\n",
              "      <td>5.0</td>\n",
              "      <td>3.0</td>\n",
              "      <td>2020.0</td>\n",
              "    </tr>\n",
              "  </tbody>\n",
              "</table>\n",
              "</div>"
            ],
            "text/plain": [
              "    Num Cases Date Announced Age Bracket  ...   Day Month    Year\n",
              "0         1.0     30/01/2020          20  ...  30.0   1.0  2020.0\n",
              "1         1.0     02/02/2020         NaN  ...   2.0   2.0  2020.0\n",
              "2         1.0     03/02/2020         NaN  ...   3.0   2.0  2020.0\n",
              "3         1.0     02/03/2020          45  ...   2.0   3.0  2020.0\n",
              "4         1.0     02/03/2020          24  ...   2.0   3.0  2020.0\n",
              "5         1.0     03/03/2020          69  ...   3.0   3.0  2020.0\n",
              "6         1.0     04/03/2020          55  ...   4.0   3.0  2020.0\n",
              "7         1.0     04/03/2020          55  ...   4.0   3.0  2020.0\n",
              "8         1.0     04/03/2020          55  ...   4.0   3.0  2020.0\n",
              "9         1.0     04/03/2020          55  ...   4.0   3.0  2020.0\n",
              "10        1.0     04/03/2020          55  ...   4.0   3.0  2020.0\n",
              "11        1.0     04/03/2020          55  ...   4.0   3.0  2020.0\n",
              "12        1.0     04/03/2020          55  ...   4.0   3.0  2020.0\n",
              "13        1.0     04/03/2020          55  ...   4.0   3.0  2020.0\n",
              "14        1.0     04/03/2020          55  ...   4.0   3.0  2020.0\n",
              "15        1.0     04/03/2020          55  ...   4.0   3.0  2020.0\n",
              "16        1.0     04/03/2020          55  ...   4.0   3.0  2020.0\n",
              "17        1.0     04/03/2020          55  ...   4.0   3.0  2020.0\n",
              "18        1.0     04/03/2020          55  ...   4.0   3.0  2020.0\n",
              "19        1.0     04/03/2020          55  ...   4.0   3.0  2020.0\n",
              "20        1.0     04/03/2020          70  ...   4.0   3.0  2020.0\n",
              "21        1.0     04/03/2020         NaN  ...   4.0   3.0  2020.0\n",
              "22        1.0     04/03/2020         NaN  ...   4.0   3.0  2020.0\n",
              "23        1.0     04/03/2020          45  ...   4.0   3.0  2020.0\n",
              "24        1.0     04/03/2020         NaN  ...   4.0   3.0  2020.0\n",
              "25        1.0     04/03/2020          16  ...   4.0   3.0  2020.0\n",
              "26        1.0     04/03/2020         NaN  ...   4.0   3.0  2020.0\n",
              "27        1.0     04/03/2020         NaN  ...   4.0   3.0  2020.0\n",
              "28        1.0     05/03/2020          27  ...   5.0   3.0  2020.0\n",
              "29        1.0     05/03/2020          59  ...   5.0   3.0  2020.0\n",
              "\n",
              "[30 rows x 11 columns]"
            ]
          },
          "metadata": {
            "tags": []
          },
          "execution_count": 36
        }
      ]
    },
    {
      "cell_type": "code",
      "metadata": {
        "colab": {
          "base_uri": "https://localhost:8080/"
        },
        "id": "VNchIvYF4CmG",
        "outputId": "99672886-4591-4782-ac9f-3e70c5619f87"
      },
      "source": [
        "data.isnull().sum()"
      ],
      "execution_count": null,
      "outputs": [
        {
          "output_type": "execute_result",
          "data": {
            "text/plain": [
              "Num Cases                19\n",
              "Date Announced            7\n",
              "Age Bracket          437401\n",
              "Gender               433057\n",
              "Detected City        540276\n",
              "Detected District     15694\n",
              "Detected State           23\n",
              "Current Status           13\n",
              "Day                       7\n",
              "Month                     7\n",
              "Year                      7\n",
              "dtype: int64"
            ]
          },
          "metadata": {
            "tags": []
          },
          "execution_count": 6
        }
      ]
    },
    {
      "cell_type": "code",
      "metadata": {
        "colab": {
          "base_uri": "https://localhost:8080/"
        },
        "id": "f_GuMVSH4EB7",
        "outputId": "9577eefa-da8f-423d-fb40-f78b519c60f6"
      },
      "source": [
        "round(data.isnull().sum(axis=0).sort_values(ascending=False)/len(data)*100,4)"
      ],
      "execution_count": null,
      "outputs": [
        {
          "output_type": "execute_result",
          "data": {
            "text/plain": [
              "Detected City        97.0163\n",
              "Age Bracket          78.5432\n",
              "Gender               77.7632\n",
              "Detected District     2.8181\n",
              "Detected State        0.0041\n",
              "Num Cases             0.0034\n",
              "Current Status        0.0023\n",
              "Year                  0.0013\n",
              "Month                 0.0013\n",
              "Day                   0.0013\n",
              "Date Announced        0.0013\n",
              "dtype: float64"
            ]
          },
          "metadata": {
            "tags": []
          },
          "execution_count": 7
        }
      ]
    },
    {
      "cell_type": "code",
      "metadata": {
        "id": "zE5oJgce4ZV9"
      },
      "source": [
        "data['Gender']=data['Gender'].replace(['M,'],['M'])\n",
        "data['Gender']=data['Gender'].replace(['M '],['M'])\n",
        "data['Gender']=data['Gender'].replace(['Femal e'],['F'])"
      ],
      "execution_count": null,
      "outputs": []
    },
    {
      "cell_type": "code",
      "metadata": {
        "id": "bR6Gg5ln4e6y"
      },
      "source": [
        "data['Age Bracket']=data['Age Bracket'].replace(['40'],['40.0'])\n",
        "data['Age Bracket']=data['Age Bracket'].replace(['30'],['30.0'])\n",
        "data['Age Bracket']=data['Age Bracket'].replace(['35'],['35.0'])\n",
        "data['Age Bracket']=data['Age Bracket'].replace(['45'],['45.0'])\n",
        "data['Age Bracket']=data['Age Bracket'].replace(['25'],['25.0'])\n",
        "data['Age Bracket']=data['Age Bracket'].replace(['32'],['32.0'])\n",
        "data['Age Bracket']=data['Age Bracket'].replace(['28'],['28.0'])\n",
        "data['Age Bracket']=data['Age Bracket'].replace(['26'],['26.0'])\n",
        "data['Age Bracket']=data['Age Bracket'].replace(['55'],['55.0'])\n",
        "data['Age Bracket']=data['Age Bracket'].replace(['50'],['50.0'])"
      ],
      "execution_count": null,
      "outputs": []
    },
    {
      "cell_type": "code",
      "metadata": {
        "id": "jr0XUzVpFd69"
      },
      "source": [
        ""
      ],
      "execution_count": null,
      "outputs": []
    },
    {
      "cell_type": "code",
      "metadata": {
        "id": "Vj-ePdm0JqN3"
      },
      "source": [
        "t=data[data['Date Announced']==\"11/09/2020\"]\n",
        "t.to_csv('2.csv')"
      ],
      "execution_count": null,
      "outputs": []
    },
    {
      "cell_type": "code",
      "metadata": {
        "colab": {
          "base_uri": "https://localhost:8080/"
        },
        "id": "UxoIHEKz5tJd",
        "outputId": "41c7c87e-51b1-4cd7-fea1-cafc48bc9ed5"
      },
      "source": [
        "Day=data[data['Current Status']=='Hospitalized'].groupby(['Year','Month','Day'])[['Num Cases']].sum()\n",
        "Day.head"
      ],
      "execution_count": null,
      "outputs": [
        {
          "output_type": "execute_result",
          "data": {
            "text/plain": [
              "<bound method NDFrame.head of                    Num Cases\n",
              "Year   Month Day            \n",
              "2020.0 3.0   4.0        10.0\n",
              "             5.0         2.0\n",
              "             7.0         4.0\n",
              "             9.0         8.0\n",
              "             10.0        8.0\n",
              "...                      ...\n",
              "2021.0 3.0   3.0     17425.0\n",
              "             4.0     16824.0\n",
              "             5.0     18324.0\n",
              "             6.0     18724.0\n",
              "             7.0     18650.0\n",
              "\n",
              "[367 rows x 1 columns]>"
            ]
          },
          "metadata": {
            "tags": []
          },
          "execution_count": 31
        }
      ]
    },
    {
      "cell_type": "code",
      "metadata": {
        "id": "d33HVB38ES7g"
      },
      "source": [
        "Day.to_csv('1.csv')"
      ],
      "execution_count": null,
      "outputs": []
    },
    {
      "cell_type": "code",
      "metadata": {
        "colab": {
          "base_uri": "https://localhost:8080/"
        },
        "id": "kFRVF7kP_NcV",
        "outputId": "e1a7795d-569a-409f-e559-ee27c434e4c8"
      },
      "source": [
        "len(Day)"
      ],
      "execution_count": null,
      "outputs": [
        {
          "output_type": "execute_result",
          "data": {
            "text/plain": [
              "367"
            ]
          },
          "metadata": {
            "tags": []
          },
          "execution_count": 14
        }
      ]
    },
    {
      "cell_type": "code",
      "metadata": {
        "colab": {
          "base_uri": "https://localhost:8080/"
        },
        "id": "wVdqO2ny_g6m",
        "outputId": "0e4e85b3-6df0-425f-d01a-e8f38b92eec7"
      },
      "source": [
        "x=np.arange(len(Day))\n",
        "x"
      ],
      "execution_count": null,
      "outputs": [
        {
          "output_type": "execute_result",
          "data": {
            "text/plain": [
              "array([  0,   1,   2,   3,   4,   5,   6,   7,   8,   9,  10,  11,  12,\n",
              "        13,  14,  15,  16,  17,  18,  19,  20,  21,  22,  23,  24,  25,\n",
              "        26,  27,  28,  29,  30,  31,  32,  33,  34,  35,  36,  37,  38,\n",
              "        39,  40,  41,  42,  43,  44,  45,  46,  47,  48,  49,  50,  51,\n",
              "        52,  53,  54,  55,  56,  57,  58,  59,  60,  61,  62,  63,  64,\n",
              "        65,  66,  67,  68,  69,  70,  71,  72,  73,  74,  75,  76,  77,\n",
              "        78,  79,  80,  81,  82,  83,  84,  85,  86,  87,  88,  89,  90,\n",
              "        91,  92,  93,  94,  95,  96,  97,  98,  99, 100, 101, 102, 103,\n",
              "       104, 105, 106, 107, 108, 109, 110, 111, 112, 113, 114, 115, 116,\n",
              "       117, 118, 119, 120, 121, 122, 123, 124, 125, 126, 127, 128, 129,\n",
              "       130, 131, 132, 133, 134, 135, 136, 137, 138, 139, 140, 141, 142,\n",
              "       143, 144, 145, 146, 147, 148, 149, 150, 151, 152, 153, 154, 155,\n",
              "       156, 157, 158, 159, 160, 161, 162, 163, 164, 165, 166, 167, 168,\n",
              "       169, 170, 171, 172, 173, 174, 175, 176, 177, 178, 179, 180, 181,\n",
              "       182, 183, 184, 185, 186, 187, 188, 189, 190, 191, 192, 193, 194,\n",
              "       195, 196, 197, 198, 199, 200, 201, 202, 203, 204, 205, 206, 207,\n",
              "       208, 209, 210, 211, 212, 213, 214, 215, 216, 217, 218, 219, 220,\n",
              "       221, 222, 223, 224, 225, 226, 227, 228, 229, 230, 231, 232, 233,\n",
              "       234, 235, 236, 237, 238, 239, 240, 241, 242, 243, 244, 245, 246,\n",
              "       247, 248, 249, 250, 251, 252, 253, 254, 255, 256, 257, 258, 259,\n",
              "       260, 261, 262, 263, 264, 265, 266, 267, 268, 269, 270, 271, 272,\n",
              "       273, 274, 275, 276, 277, 278, 279, 280, 281, 282, 283, 284, 285,\n",
              "       286, 287, 288, 289, 290, 291, 292, 293, 294, 295, 296, 297, 298,\n",
              "       299, 300, 301, 302, 303, 304, 305, 306, 307, 308, 309, 310, 311,\n",
              "       312, 313, 314, 315, 316, 317, 318, 319, 320, 321, 322, 323, 324,\n",
              "       325, 326, 327, 328, 329, 330, 331, 332, 333, 334, 335, 336, 337,\n",
              "       338, 339, 340, 341, 342, 343, 344, 345, 346, 347, 348, 349, 350,\n",
              "       351, 352, 353, 354, 355, 356, 357, 358, 359, 360, 361, 362, 363,\n",
              "       364, 365, 366])"
            ]
          },
          "metadata": {
            "tags": []
          },
          "execution_count": 16
        }
      ]
    },
    {
      "cell_type": "code",
      "metadata": {
        "colab": {
          "base_uri": "https://localhost:8080/"
        },
        "id": "IBMy5xQ3_vVZ",
        "outputId": "b86bc25b-4056-496e-c96f-533d7a1aaf54"
      },
      "source": [
        "y=Day.values\n",
        "y"
      ],
      "execution_count": null,
      "outputs": [
        {
          "output_type": "execute_result",
          "data": {
            "text/plain": [
              "array([[1.0000e+01],\n",
              "       [2.0000e+00],\n",
              "       [4.0000e+00],\n",
              "       [8.0000e+00],\n",
              "       [8.0000e+00],\n",
              "       [1.6000e+01],\n",
              "       [8.0000e+00],\n",
              "       [1.2000e+01],\n",
              "       [2.2000e+01],\n",
              "       [1.6000e+01],\n",
              "       [2.4000e+01],\n",
              "       [2.8000e+01],\n",
              "       [4.4000e+01],\n",
              "       [4.2000e+01],\n",
              "       [1.0400e+02],\n",
              "       [1.3400e+02],\n",
              "       [1.1800e+02],\n",
              "       [1.6400e+02],\n",
              "       [1.2600e+02],\n",
              "       [1.5000e+02],\n",
              "       [1.1600e+02],\n",
              "       [2.8000e+02],\n",
              "       [2.4600e+02],\n",
              "       [2.1200e+02],\n",
              "       [3.5600e+02],\n",
              "       [6.1200e+02],\n",
              "       [8.4600e+02],\n",
              "       [9.7000e+02],\n",
              "       [1.1120e+03],\n",
              "       [1.1520e+03],\n",
              "       [1.2120e+03],\n",
              "       [9.7000e+02],\n",
              "       [1.1400e+03],\n",
              "       [1.1260e+03],\n",
              "       [1.6240e+03],\n",
              "       [1.7400e+03],\n",
              "       [1.7060e+03],\n",
              "       [1.5160e+03],\n",
              "       [2.4860e+03],\n",
              "       [2.0620e+03],\n",
              "       [1.7680e+03],\n",
              "       [2.1220e+03],\n",
              "       [1.8440e+03],\n",
              "       [2.7400e+03],\n",
              "       [3.1580e+03],\n",
              "       [1.2390e+03],\n",
              "       [1.5370e+03],\n",
              "       [1.2920e+03],\n",
              "       [1.6670e+03],\n",
              "       [1.4080e+03],\n",
              "       [1.8350e+03],\n",
              "       [1.6070e+03],\n",
              "       [1.5680e+03],\n",
              "       [1.9020e+03],\n",
              "       [1.7050e+03],\n",
              "       [1.8020e+03],\n",
              "       [2.3960e+03],\n",
              "       [2.5640e+03],\n",
              "       [2.9520e+03],\n",
              "       [3.6560e+03],\n",
              "       [2.9710e+03],\n",
              "       [3.6020e+03],\n",
              "       [3.3440e+03],\n",
              "       [3.3390e+03],\n",
              "       [3.1750e+03],\n",
              "       [4.3110e+03],\n",
              "       [3.5920e+03],\n",
              "       [3.5620e+03],\n",
              "       [3.7260e+03],\n",
              "       [3.9910e+03],\n",
              "       [3.8080e+03],\n",
              "       [4.7940e+03],\n",
              "       [5.0490e+03],\n",
              "       [4.6280e+03],\n",
              "       [6.1540e+03],\n",
              "       [5.7200e+03],\n",
              "       [6.0230e+03],\n",
              "       [6.5360e+03],\n",
              "       [6.6650e+03],\n",
              "       [7.1110e+03],\n",
              "       [6.4140e+03],\n",
              "       [5.9070e+03],\n",
              "       [7.2460e+03],\n",
              "       [7.2540e+03],\n",
              "       [8.1380e+03],\n",
              "       [8.3640e+03],\n",
              "       [8.7890e+03],\n",
              "       [7.7240e+03],\n",
              "       [8.8120e+03],\n",
              "       [9.6880e+03],\n",
              "       [9.8470e+03],\n",
              "       [9.4720e+03],\n",
              "       [1.0408e+04],\n",
              "       [1.0882e+04],\n",
              "       [8.5360e+03],\n",
              "       [9.9810e+03],\n",
              "       [1.1156e+04],\n",
              "       [1.1135e+04],\n",
              "       [1.1306e+04],\n",
              "       [1.2039e+04],\n",
              "       [1.1404e+04],\n",
              "       [1.0032e+04],\n",
              "       [1.1085e+04],\n",
              "       [1.3108e+04],\n",
              "       [1.3829e+04],\n",
              "       [1.4740e+04],\n",
              "       [1.5918e+04],\n",
              "       [1.5151e+04],\n",
              "       [1.3560e+04],\n",
              "       [1.5656e+04],\n",
              "       [1.6868e+04],\n",
              "       [1.8205e+04],\n",
              "       [1.8255e+04],\n",
              "       [2.0142e+04],\n",
              "       [1.9610e+04],\n",
              "       [1.8339e+04],\n",
              "       [1.8255e+04],\n",
              "       [1.9430e+04],\n",
              "       [2.1947e+04],\n",
              "       [2.2718e+04],\n",
              "       [2.4018e+04],\n",
              "       [2.3942e+04],\n",
              "       [2.2500e+04],\n",
              "       [2.3148e+04],\n",
              "       [2.5561e+04],\n",
              "       [2.5790e+04],\n",
              "       [2.7749e+04],\n",
              "       [2.7754e+04],\n",
              "       [2.9106e+04],\n",
              "       [2.8178e+04],\n",
              "       [2.9917e+04],\n",
              "       [3.2607e+04],\n",
              "       [3.5468e+04],\n",
              "       [3.4824e+04],\n",
              "       [3.7411e+04],\n",
              "       [4.0235e+04],\n",
              "       [3.6806e+04],\n",
              "       [3.9170e+04],\n",
              "       [4.5601e+04],\n",
              "       [4.8443e+04],\n",
              "       [4.8888e+04],\n",
              "       [5.0072e+04],\n",
              "       [4.8932e+04],\n",
              "       [4.6484e+04],\n",
              "       [4.9631e+04],\n",
              "       [5.2479e+04],\n",
              "       [5.4968e+04],\n",
              "       [5.7486e+04],\n",
              "       [5.5117e+04],\n",
              "       [5.2672e+04],\n",
              "       [5.0491e+04],\n",
              "       [5.1282e+04],\n",
              "       [5.6626e+04],\n",
              "       [6.2170e+04],\n",
              "       [6.1455e+04],\n",
              "       [6.5156e+04],\n",
              "       [6.2117e+04],\n",
              "       [5.3016e+04],\n",
              "       [6.1252e+04],\n",
              "       [6.7066e+04],\n",
              "       [6.4141e+04],\n",
              "       [6.5610e+04],\n",
              "       [6.3986e+04],\n",
              "       [5.8096e+04],\n",
              "       [5.4298e+04],\n",
              "       [6.5024e+04],\n",
              "       [6.9196e+04],\n",
              "       [6.8518e+04],\n",
              "       [6.9029e+04],\n",
              "       [7.0067e+04],\n",
              "       [6.1749e+04],\n",
              "       [5.9696e+04],\n",
              "       [6.6873e+04],\n",
              "       [7.5995e+04],\n",
              "       [7.6827e+04],\n",
              "       [7.6657e+04],\n",
              "       [7.8479e+04],\n",
              "       [7.9461e+04],\n",
              "       [6.8766e+04],\n",
              "       [7.8168e+04],\n",
              "       [8.2865e+04],\n",
              "       [8.4159e+04],\n",
              "       [8.7107e+04],\n",
              "       [9.0606e+04],\n",
              "       [9.1725e+04],\n",
              "       [7.5015e+04],\n",
              "       [8.9855e+04],\n",
              "       [9.5536e+04],\n",
              "       [9.6762e+04],\n",
              "       [9.7655e+04],\n",
              "       [9.4414e+04],\n",
              "       [9.3220e+04],\n",
              "       [8.1909e+04],\n",
              "       [9.1097e+04],\n",
              "       [9.7860e+04],\n",
              "       [9.6787e+04],\n",
              "       [9.2973e+04],\n",
              "       [9.2574e+04],\n",
              "       [8.7395e+04],\n",
              "       [7.4493e+04],\n",
              "       [8.3362e+04],\n",
              "       [8.6703e+04],\n",
              "       [8.5921e+04],\n",
              "       [8.5717e+04],\n",
              "       [8.8759e+04],\n",
              "       [8.2770e+04],\n",
              "       [6.9669e+04],\n",
              "       [8.0500e+04],\n",
              "       [8.6748e+04],\n",
              "       [8.1785e+04],\n",
              "       [7.9885e+04],\n",
              "       [7.5479e+04],\n",
              "       [7.4770e+04],\n",
              "       [6.0130e+04],\n",
              "       [7.1869e+04],\n",
              "       [7.8809e+04],\n",
              "       [7.0798e+04],\n",
              "       [7.3305e+04],\n",
              "       [7.4418e+04],\n",
              "       [6.7789e+04],\n",
              "       [5.4262e+04],\n",
              "       [6.3717e+04],\n",
              "       [6.7811e+04],\n",
              "       [6.3441e+04],\n",
              "       [6.2304e+04],\n",
              "       [6.1893e+04],\n",
              "       [5.6519e+04],\n",
              "       [4.5506e+04],\n",
              "       [5.4348e+04],\n",
              "       [5.6264e+04],\n",
              "       [5.4371e+04],\n",
              "       [5.3931e+04],\n",
              "       [5.0366e+04],\n",
              "       [4.5922e+04],\n",
              "       [3.6104e+04],\n",
              "       [4.3036e+04],\n",
              "       [5.0188e+04],\n",
              "       [4.8765e+04],\n",
              "       [4.8117e+04],\n",
              "       [4.7228e+04],\n",
              "       [4.5928e+04],\n",
              "       [3.7592e+04],\n",
              "       [4.6027e+04],\n",
              "       [5.0465e+04],\n",
              "       [4.7628e+04],\n",
              "       [5.0359e+04],\n",
              "       [4.5811e+04],\n",
              "       [4.6707e+04],\n",
              "       [3.7119e+04],\n",
              "       [4.4724e+04],\n",
              "       [4.8285e+04],\n",
              "       [4.4584e+04],\n",
              "       [4.4620e+04],\n",
              "       [4.1692e+04],\n",
              "       [3.0681e+04],\n",
              "       [2.8609e+04],\n",
              "       [3.8548e+04],\n",
              "       [4.5366e+04],\n",
              "       [4.6185e+04],\n",
              "       [4.6283e+04],\n",
              "       [4.5301e+04],\n",
              "       [4.4404e+04],\n",
              "       [3.7441e+04],\n",
              "       [4.4245e+04],\n",
              "       [4.4699e+04],\n",
              "       [4.3174e+04],\n",
              "       [4.1353e+04],\n",
              "       [4.1815e+04],\n",
              "       [3.9036e+04],\n",
              "       [3.1179e+04],\n",
              "       [3.6474e+04],\n",
              "       [3.5506e+04],\n",
              "       [3.6574e+04],\n",
              "       [3.6711e+04],\n",
              "       [3.6010e+04],\n",
              "       [3.3178e+04],\n",
              "       [2.6227e+04],\n",
              "       [3.2083e+04],\n",
              "       [3.1637e+04],\n",
              "       [2.9411e+04],\n",
              "       [2.9961e+04],\n",
              "       [3.0354e+04],\n",
              "       [2.7336e+04],\n",
              "       [2.1941e+04],\n",
              "       [2.6251e+04],\n",
              "       [1.8172e+04],\n",
              "       [2.6754e+04],\n",
              "       [2.6991e+04],\n",
              "       [2.6834e+04],\n",
              "       [2.4622e+04],\n",
              "       [1.9147e+04],\n",
              "       [2.3880e+04],\n",
              "       [2.4716e+04],\n",
              "       [2.3444e+04],\n",
              "       [2.2349e+04],\n",
              "       [1.8575e+04],\n",
              "       [2.0333e+04],\n",
              "       [1.6072e+04],\n",
              "       [2.0542e+04],\n",
              "       [2.1945e+04],\n",
              "       [1.9026e+04],\n",
              "       [2.0159e+04],\n",
              "       [1.8144e+04],\n",
              "       [1.6678e+04],\n",
              "       [1.6278e+04],\n",
              "       [1.7909e+04],\n",
              "       [2.0472e+04],\n",
              "       [1.8123e+04],\n",
              "       [1.8453e+04],\n",
              "       [1.8820e+04],\n",
              "       [1.6086e+04],\n",
              "       [1.2481e+04],\n",
              "       [1.5903e+04],\n",
              "       [1.7015e+04],\n",
              "       [1.5677e+04],\n",
              "       [1.5155e+04],\n",
              "       [1.5050e+04],\n",
              "       [1.3962e+04],\n",
              "       [9.9870e+03],\n",
              "       [1.3787e+04],\n",
              "       [1.5279e+04],\n",
              "       [1.4495e+04],\n",
              "       [1.4323e+04],\n",
              "       [1.4896e+04],\n",
              "       [1.3232e+04],\n",
              "       [9.0980e+03],\n",
              "       [1.2733e+04],\n",
              "       [1.1556e+04],\n",
              "       [1.8912e+04],\n",
              "       [1.3054e+04],\n",
              "       [1.3073e+04],\n",
              "       [1.1527e+04],\n",
              "       [8.5790e+03],\n",
              "       [1.1001e+04],\n",
              "       [1.2925e+04],\n",
              "       [1.2401e+04],\n",
              "       [1.1711e+04],\n",
              "       [1.2069e+04],\n",
              "       [1.1786e+04],\n",
              "       [8.7150e+03],\n",
              "       [1.0731e+04],\n",
              "       [1.2539e+04],\n",
              "       [9.3530e+03],\n",
              "       [1.2137e+04],\n",
              "       [1.2198e+04],\n",
              "       [1.1706e+04],\n",
              "       [9.0860e+03],\n",
              "       [1.1592e+04],\n",
              "       [1.2862e+04],\n",
              "       [1.3237e+04],\n",
              "       [1.3914e+04],\n",
              "       [1.3919e+04],\n",
              "       [1.4278e+04],\n",
              "       [1.0494e+04],\n",
              "       [1.3682e+04],\n",
              "       [1.6930e+04],\n",
              "       [1.6599e+04],\n",
              "       [1.6562e+04],\n",
              "       [1.6805e+04],\n",
              "       [1.5614e+04],\n",
              "       [1.2270e+04],\n",
              "       [1.4998e+04],\n",
              "       [1.7425e+04],\n",
              "       [1.6824e+04],\n",
              "       [1.8324e+04],\n",
              "       [1.8724e+04],\n",
              "       [1.8650e+04]])"
            ]
          },
          "metadata": {
            "tags": []
          },
          "execution_count": 17
        }
      ]
    },
    {
      "cell_type": "code",
      "metadata": {
        "colab": {
          "base_uri": "https://localhost:8080/",
          "height": 264
        },
        "id": "SuWEboYN__wF",
        "outputId": "bec28caa-5b3a-4a82-9bbe-72a53330261c"
      },
      "source": [
        "plt.scatter(x,y)\n",
        "plt.show()"
      ],
      "execution_count": null,
      "outputs": [
        {
          "output_type": "display_data",
          "data": {
            "image/png": "[encoded data removed]",
            "text/plain": [
              "<Figure size 432x288 with 1 Axes>"
            ]
          },
          "metadata": {
            "tags": [],
            "needs_background": "light"
          }
        }
      ]
    },
    {
      "cell_type": "code",
      "metadata": {
        "id": "pa5cPMFcAgmk"
      },
      "source": [
        "x=x.reshape(-1,1)"
      ],
      "execution_count": null,
      "outputs": []
    },
    {
      "cell_type": "markdown",
      "metadata": {
        "id": "swgNcP9uavwQ"
      },
      "source": [
        "# Linear Regression\n"
      ]
    },
    {
      "cell_type": "code",
      "metadata": {
        "colab": {
          "base_uri": "https://localhost:8080/"
        },
        "id": "tMXUglswAjze",
        "outputId": "62c05a16-dc20-48f7-e4d6-c1d4cee31070"
      },
      "source": [
        "from sklearn.linear_model import LinearRegression\n",
        "regressor= LinearRegression()\n",
        "regressor.fit(x,y)"
      ],
      "execution_count": null,
      "outputs": [
        {
          "output_type": "execute_result",
          "data": {
            "text/plain": [
              "LinearRegression(copy_X=True, fit_intercept=True, n_jobs=None, normalize=False)"
            ]
          },
          "metadata": {
            "tags": []
          },
          "execution_count": 20
        }
      ]
    },
    {
      "cell_type": "code",
      "metadata": {
        "colab": {
          "base_uri": "https://localhost:8080/"
        },
        "id": "fW4qFzB3BBeO",
        "outputId": "e5d694cb-760d-412a-928f-f74fafddec30"
      },
      "source": [
        "y[366]"
      ],
      "execution_count": null,
      "outputs": [
        {
          "output_type": "execute_result",
          "data": {
            "text/plain": [
              "array([18650.])"
            ]
          },
          "metadata": {
            "tags": []
          },
          "execution_count": 21
        }
      ]
    },
    {
      "cell_type": "code",
      "metadata": {
        "colab": {
          "base_uri": "https://localhost:8080/"
        },
        "id": "rLEKcTGyDSO8",
        "outputId": "31b6a405-d105-48f3-f49f-d2a94a871878"
      },
      "source": [
        "y"
      ],
      "execution_count": null,
      "outputs": [
        {
          "output_type": "execute_result",
          "data": {
            "text/plain": [
              "array([[1.0000e+01],\n",
              "       [2.0000e+00],\n",
              "       [4.0000e+00],\n",
              "       [8.0000e+00],\n",
              "       [8.0000e+00],\n",
              "       [1.6000e+01],\n",
              "       [8.0000e+00],\n",
              "       [1.2000e+01],\n",
              "       [2.2000e+01],\n",
              "       [1.6000e+01],\n",
              "       [2.4000e+01],\n",
              "       [2.8000e+01],\n",
              "       [4.4000e+01],\n",
              "       [4.2000e+01],\n",
              "       [1.0400e+02],\n",
              "       [1.3400e+02],\n",
              "       [1.1800e+02],\n",
              "       [1.6400e+02],\n",
              "       [1.2600e+02],\n",
              "       [1.5000e+02],\n",
              "       [1.1600e+02],\n",
              "       [2.8000e+02],\n",
              "       [2.4600e+02],\n",
              "       [2.1200e+02],\n",
              "       [3.5600e+02],\n",
              "       [6.1200e+02],\n",
              "       [8.4600e+02],\n",
              "       [9.7000e+02],\n",
              "       [1.1120e+03],\n",
              "       [1.1520e+03],\n",
              "       [1.2120e+03],\n",
              "       [9.7000e+02],\n",
              "       [1.1400e+03],\n",
              "       [1.1260e+03],\n",
              "       [1.6240e+03],\n",
              "       [1.7400e+03],\n",
              "       [1.7060e+03],\n",
              "       [1.5160e+03],\n",
              "       [2.4860e+03],\n",
              "       [2.0620e+03],\n",
              "       [1.7680e+03],\n",
              "       [2.1220e+03],\n",
              "       [1.8440e+03],\n",
              "       [2.7400e+03],\n",
              "       [3.1580e+03],\n",
              "       [1.2390e+03],\n",
              "       [1.5370e+03],\n",
              "       [1.2920e+03],\n",
              "       [1.6670e+03],\n",
              "       [1.4080e+03],\n",
              "       [1.8350e+03],\n",
              "       [1.6070e+03],\n",
              "       [1.5680e+03],\n",
              "       [1.9020e+03],\n",
              "       [1.7050e+03],\n",
              "       [1.8020e+03],\n",
              "       [2.3960e+03],\n",
              "       [2.5640e+03],\n",
              "       [2.9520e+03],\n",
              "       [3.6560e+03],\n",
              "       [2.9710e+03],\n",
              "       [3.6020e+03],\n",
              "       [3.3440e+03],\n",
              "       [3.3390e+03],\n",
              "       [3.1750e+03],\n",
              "       [4.3110e+03],\n",
              "       [3.5920e+03],\n",
              "       [3.5620e+03],\n",
              "       [3.7260e+03],\n",
              "       [3.9910e+03],\n",
              "       [3.8080e+03],\n",
              "       [4.7940e+03],\n",
              "       [5.0490e+03],\n",
              "       [4.6280e+03],\n",
              "       [6.1540e+03],\n",
              "       [5.7200e+03],\n",
              "       [6.0230e+03],\n",
              "       [6.5360e+03],\n",
              "       [6.6650e+03],\n",
              "       [7.1110e+03],\n",
              "       [6.4140e+03],\n",
              "       [5.9070e+03],\n",
              "       [7.2460e+03],\n",
              "       [7.2540e+03],\n",
              "       [8.1380e+03],\n",
              "       [8.3640e+03],\n",
              "       [8.7890e+03],\n",
              "       [7.7240e+03],\n",
              "       [8.8120e+03],\n",
              "       [9.6880e+03],\n",
              "       [9.8470e+03],\n",
              "       [9.4720e+03],\n",
              "       [1.0408e+04],\n",
              "       [1.0882e+04],\n",
              "       [8.5360e+03],\n",
              "       [9.9810e+03],\n",
              "       [1.1156e+04],\n",
              "       [1.1135e+04],\n",
              "       [1.1306e+04],\n",
              "       [1.2039e+04],\n",
              "       [1.1404e+04],\n",
              "       [1.0032e+04],\n",
              "       [1.1085e+04],\n",
              "       [1.3108e+04],\n",
              "       [1.3829e+04],\n",
              "       [1.4740e+04],\n",
              "       [1.5918e+04],\n",
              "       [1.5151e+04],\n",
              "       [1.3560e+04],\n",
              "       [1.5656e+04],\n",
              "       [1.6868e+04],\n",
              "       [1.8205e+04],\n",
              "       [1.8255e+04],\n",
              "       [2.0142e+04],\n",
              "       [1.9610e+04],\n",
              "       [1.8339e+04],\n",
              "       [1.8255e+04],\n",
              "       [1.9430e+04],\n",
              "       [2.1947e+04],\n",
              "       [2.2718e+04],\n",
              "       [2.4018e+04],\n",
              "       [2.3942e+04],\n",
              "       [2.2500e+04],\n",
              "       [2.3148e+04],\n",
              "       [2.5561e+04],\n",
              "       [2.5790e+04],\n",
              "       [2.7749e+04],\n",
              "       [2.7754e+04],\n",
              "       [2.9106e+04],\n",
              "       [2.8178e+04],\n",
              "       [2.9917e+04],\n",
              "       [3.2607e+04],\n",
              "       [3.5468e+04],\n",
              "       [3.4824e+04],\n",
              "       [3.7411e+04],\n",
              "       [4.0235e+04],\n",
              "       [3.6806e+04],\n",
              "       [3.9170e+04],\n",
              "       [4.5601e+04],\n",
              "       [4.8443e+04],\n",
              "       [4.8888e+04],\n",
              "       [5.0072e+04],\n",
              "       [4.8932e+04],\n",
              "       [4.6484e+04],\n",
              "       [4.9631e+04],\n",
              "       [5.2479e+04],\n",
              "       [5.4968e+04],\n",
              "       [5.7486e+04],\n",
              "       [5.5117e+04],\n",
              "       [5.2672e+04],\n",
              "       [5.0491e+04],\n",
              "       [5.1282e+04],\n",
              "       [5.6626e+04],\n",
              "       [6.2170e+04],\n",
              "       [6.1455e+04],\n",
              "       [6.5156e+04],\n",
              "       [6.2117e+04],\n",
              "       [5.3016e+04],\n",
              "       [6.1252e+04],\n",
              "       [6.7066e+04],\n",
              "       [6.4141e+04],\n",
              "       [6.5610e+04],\n",
              "       [6.3986e+04],\n",
              "       [5.8096e+04],\n",
              "       [5.4298e+04],\n",
              "       [6.5024e+04],\n",
              "       [6.9196e+04],\n",
              "       [6.8518e+04],\n",
              "       [6.9029e+04],\n",
              "       [7.0067e+04],\n",
              "       [6.1749e+04],\n",
              "       [5.9696e+04],\n",
              "       [6.6873e+04],\n",
              "       [7.5995e+04],\n",
              "       [7.6827e+04],\n",
              "       [7.6657e+04],\n",
              "       [7.8479e+04],\n",
              "       [7.9461e+04],\n",
              "       [6.8766e+04],\n",
              "       [7.8168e+04],\n",
              "       [8.2865e+04],\n",
              "       [8.4159e+04],\n",
              "       [8.7107e+04],\n",
              "       [9.0606e+04],\n",
              "       [9.1725e+04],\n",
              "       [7.5015e+04],\n",
              "       [8.9855e+04],\n",
              "       [9.5536e+04],\n",
              "       [9.6762e+04],\n",
              "       [9.7655e+04],\n",
              "       [9.4414e+04],\n",
              "       [9.3220e+04],\n",
              "       [8.1909e+04],\n",
              "       [9.1097e+04],\n",
              "       [9.7860e+04],\n",
              "       [9.6787e+04],\n",
              "       [9.2973e+04],\n",
              "       [9.2574e+04],\n",
              "       [8.7395e+04],\n",
              "       [7.4493e+04],\n",
              "       [8.3362e+04],\n",
              "       [8.6703e+04],\n",
              "       [8.5921e+04],\n",
              "       [8.5717e+04],\n",
              "       [8.8759e+04],\n",
              "       [8.2770e+04],\n",
              "       [6.9669e+04],\n",
              "       [8.0500e+04],\n",
              "       [8.6748e+04],\n",
              "       [8.1785e+04],\n",
              "       [7.9885e+04],\n",
              "       [7.5479e+04],\n",
              "       [7.4770e+04],\n",
              "       [6.0130e+04],\n",
              "       [7.1869e+04],\n",
              "       [7.8809e+04],\n",
              "       [7.0798e+04],\n",
              "       [7.3305e+04],\n",
              "       [7.4418e+04],\n",
              "       [6.7789e+04],\n",
              "       [5.4262e+04],\n",
              "       [6.3717e+04],\n",
              "       [6.7811e+04],\n",
              "       [6.3441e+04],\n",
              "       [6.2304e+04],\n",
              "       [6.1893e+04],\n",
              "       [5.6519e+04],\n",
              "       [4.5506e+04],\n",
              "       [5.4348e+04],\n",
              "       [5.6264e+04],\n",
              "       [5.4371e+04],\n",
              "       [5.3931e+04],\n",
              "       [5.0366e+04],\n",
              "       [4.5922e+04],\n",
              "       [3.6104e+04],\n",
              "       [4.3036e+04],\n",
              "       [5.0188e+04],\n",
              "       [4.8765e+04],\n",
              "       [4.8117e+04],\n",
              "       [4.7228e+04],\n",
              "       [4.5928e+04],\n",
              "       [3.7592e+04],\n",
              "       [4.6027e+04],\n",
              "       [5.0465e+04],\n",
              "       [4.7628e+04],\n",
              "       [5.0359e+04],\n",
              "       [4.5811e+04],\n",
              "       [4.6707e+04],\n",
              "       [3.7119e+04],\n",
              "       [4.4724e+04],\n",
              "       [4.8285e+04],\n",
              "       [4.4584e+04],\n",
              "       [4.4620e+04],\n",
              "       [4.1692e+04],\n",
              "       [3.0681e+04],\n",
              "       [2.8609e+04],\n",
              "       [3.8548e+04],\n",
              "       [4.5366e+04],\n",
              "       [4.6185e+04],\n",
              "       [4.6283e+04],\n",
              "       [4.5301e+04],\n",
              "       [4.4404e+04],\n",
              "       [3.7441e+04],\n",
              "       [4.4245e+04],\n",
              "       [4.4699e+04],\n",
              "       [4.3174e+04],\n",
              "       [4.1353e+04],\n",
              "       [4.1815e+04],\n",
              "       [3.9036e+04],\n",
              "       [3.1179e+04],\n",
              "       [3.6474e+04],\n",
              "       [3.5506e+04],\n",
              "       [3.6574e+04],\n",
              "       [3.6711e+04],\n",
              "       [3.6010e+04],\n",
              "       [3.3178e+04],\n",
              "       [2.6227e+04],\n",
              "       [3.2083e+04],\n",
              "       [3.1637e+04],\n",
              "       [2.9411e+04],\n",
              "       [2.9961e+04],\n",
              "       [3.0354e+04],\n",
              "       [2.7336e+04],\n",
              "       [2.1941e+04],\n",
              "       [2.6251e+04],\n",
              "       [1.8172e+04],\n",
              "       [2.6754e+04],\n",
              "       [2.6991e+04],\n",
              "       [2.6834e+04],\n",
              "       [2.4622e+04],\n",
              "       [1.9147e+04],\n",
              "       [2.3880e+04],\n",
              "       [2.4716e+04],\n",
              "       [2.3444e+04],\n",
              "       [2.2349e+04],\n",
              "       [1.8575e+04],\n",
              "       [2.0333e+04],\n",
              "       [1.6072e+04],\n",
              "       [2.0542e+04],\n",
              "       [2.1945e+04],\n",
              "       [1.9026e+04],\n",
              "       [2.0159e+04],\n",
              "       [1.8144e+04],\n",
              "       [1.6678e+04],\n",
              "       [1.6278e+04],\n",
              "       [1.7909e+04],\n",
              "       [2.0472e+04],\n",
              "       [1.8123e+04],\n",
              "       [1.8453e+04],\n",
              "       [1.8820e+04],\n",
              "       [1.6086e+04],\n",
              "       [1.2481e+04],\n",
              "       [1.5903e+04],\n",
              "       [1.7015e+04],\n",
              "       [1.5677e+04],\n",
              "       [1.5155e+04],\n",
              "       [1.5050e+04],\n",
              "       [1.3962e+04],\n",
              "       [9.9870e+03],\n",
              "       [1.3787e+04],\n",
              "       [1.5279e+04],\n",
              "       [1.4495e+04],\n",
              "       [1.4323e+04],\n",
              "       [1.4896e+04],\n",
              "       [1.3232e+04],\n",
              "       [9.0980e+03],\n",
              "       [1.2733e+04],\n",
              "       [1.1556e+04],\n",
              "       [1.8912e+04],\n",
              "       [1.3054e+04],\n",
              "       [1.3073e+04],\n",
              "       [1.1527e+04],\n",
              "       [8.5790e+03],\n",
              "       [1.1001e+04],\n",
              "       [1.2925e+04],\n",
              "       [1.2401e+04],\n",
              "       [1.1711e+04],\n",
              "       [1.2069e+04],\n",
              "       [1.1786e+04],\n",
              "       [8.7150e+03],\n",
              "       [1.0731e+04],\n",
              "       [1.2539e+04],\n",
              "       [9.3530e+03],\n",
              "       [1.2137e+04],\n",
              "       [1.2198e+04],\n",
              "       [1.1706e+04],\n",
              "       [9.0860e+03],\n",
              "       [1.1592e+04],\n",
              "       [1.2862e+04],\n",
              "       [1.3237e+04],\n",
              "       [1.3914e+04],\n",
              "       [1.3919e+04],\n",
              "       [1.4278e+04],\n",
              "       [1.0494e+04],\n",
              "       [1.3682e+04],\n",
              "       [1.6930e+04],\n",
              "       [1.6599e+04],\n",
              "       [1.6562e+04],\n",
              "       [1.6805e+04],\n",
              "       [1.5614e+04],\n",
              "       [1.2270e+04],\n",
              "       [1.4998e+04],\n",
              "       [1.7425e+04],\n",
              "       [1.6824e+04],\n",
              "       [1.8324e+04],\n",
              "       [1.8724e+04],\n",
              "       [1.8650e+04]])"
            ]
          },
          "metadata": {
            "tags": []
          },
          "execution_count": 30
        }
      ]
    },
    {
      "cell_type": "code",
      "metadata": {
        "colab": {
          "base_uri": "https://localhost:8080/"
        },
        "id": "_rwF51FaBMKy",
        "outputId": "994ba19d-9493-406d-db9f-cbe6dec08cef"
      },
      "source": [
        "regressor.predict([[377]])"
      ],
      "execution_count": null,
      "outputs": [
        {
          "output_type": "execute_result",
          "data": {
            "text/plain": [
              "array([[43281.76108174]])"
            ]
          },
          "metadata": {
            "tags": []
          },
          "execution_count": 23
        }
      ]
    },
    {
      "cell_type": "code",
      "metadata": {
        "colab": {
          "base_uri": "https://localhost:8080/"
        },
        "id": "n56k8sRBBZUf",
        "outputId": "1827a388-15c2-4a0e-a5ce-c17ed1f52ce3"
      },
      "source": [
        "Yp=regressor.predict(x)\n",
        "Yp"
      ],
      "execution_count": null,
      "outputs": [
        {
          "output_type": "execute_result",
          "data": {
            "text/plain": [
              "array([[18721.60571911],\n",
              "       [18786.75201981],\n",
              "       [18851.8983205 ],\n",
              "       [18917.0446212 ],\n",
              "       [18982.1909219 ],\n",
              "       [19047.33722259],\n",
              "       [19112.48352329],\n",
              "       [19177.62982399],\n",
              "       [19242.77612468],\n",
              "       [19307.92242538],\n",
              "       [19373.06872608],\n",
              "       [19438.21502677],\n",
              "       [19503.36132747],\n",
              "       [19568.50762817],\n",
              "       [19633.65392886],\n",
              "       [19698.80022956],\n",
              "       [19763.94653026],\n",
              "       [19829.09283095],\n",
              "       [19894.23913165],\n",
              "       [19959.38543235],\n",
              "       [20024.53173304],\n",
              "       [20089.67803374],\n",
              "       [20154.82433444],\n",
              "       [20219.97063513],\n",
              "       [20285.11693583],\n",
              "       [20350.26323653],\n",
              "       [20415.40953722],\n",
              "       [20480.55583792],\n",
              "       [20545.70213861],\n",
              "       [20610.84843931],\n",
              "       [20675.99474001],\n",
              "       [20741.1410407 ],\n",
              "       [20806.2873414 ],\n",
              "       [20871.4336421 ],\n",
              "       [20936.57994279],\n",
              "       [21001.72624349],\n",
              "       [21066.87254419],\n",
              "       [21132.01884488],\n",
              "       [21197.16514558],\n",
              "       [21262.31144628],\n",
              "       [21327.45774697],\n",
              "       [21392.60404767],\n",
              "       [21457.75034837],\n",
              "       [21522.89664906],\n",
              "       [21588.04294976],\n",
              "       [21653.18925046],\n",
              "       [21718.33555115],\n",
              "       [21783.48185185],\n",
              "       [21848.62815255],\n",
              "       [21913.77445324],\n",
              "       [21978.92075394],\n",
              "       [22044.06705464],\n",
              "       [22109.21335533],\n",
              "       [22174.35965603],\n",
              "       [22239.50595673],\n",
              "       [22304.65225742],\n",
              "       [22369.79855812],\n",
              "       [22434.94485882],\n",
              "       [22500.09115951],\n",
              "       [22565.23746021],\n",
              "       [22630.38376091],\n",
              "       [22695.5300616 ],\n",
              "       [22760.6763623 ],\n",
              "       [22825.822663  ],\n",
              "       [22890.96896369],\n",
              "       [22956.11526439],\n",
              "       [23021.26156509],\n",
              "       [23086.40786578],\n",
              "       [23151.55416648],\n",
              "       [23216.70046718],\n",
              "       [23281.84676787],\n",
              "       [23346.99306857],\n",
              "       [23412.13936927],\n",
              "       [23477.28566996],\n",
              "       [23542.43197066],\n",
              "       [23607.57827136],\n",
              "       [23672.72457205],\n",
              "       [23737.87087275],\n",
              "       [23803.01717345],\n",
              "       [23868.16347414],\n",
              "       [23933.30977484],\n",
              "       [23998.45607554],\n",
              "       [24063.60237623],\n",
              "       [24128.74867693],\n",
              "       [24193.89497763],\n",
              "       [24259.04127832],\n",
              "       [24324.18757902],\n",
              "       [24389.33387972],\n",
              "       [24454.48018041],\n",
              "       [24519.62648111],\n",
              "       [24584.77278181],\n",
              "       [24649.9190825 ],\n",
              "       [24715.0653832 ],\n",
              "       [24780.2116839 ],\n",
              "       [24845.35798459],\n",
              "       [24910.50428529],\n",
              "       [24975.65058599],\n",
              "       [25040.79688668],\n",
              "       [25105.94318738],\n",
              "       [25171.08948808],\n",
              "       [25236.23578877],\n",
              "       [25301.38208947],\n",
              "       [25366.52839017],\n",
              "       [25431.67469086],\n",
              "       [25496.82099156],\n",
              "       [25561.96729226],\n",
              "       [25627.11359295],\n",
              "       [25692.25989365],\n",
              "       [25757.40619435],\n",
              "       [25822.55249504],\n",
              "       [25887.69879574],\n",
              "       [25952.84509644],\n",
              "       [26017.99139713],\n",
              "       [26083.13769783],\n",
              "       [26148.28399853],\n",
              "       [26213.43029922],\n",
              "       [26278.57659992],\n",
              "       [26343.72290062],\n",
              "       [26408.86920131],\n",
              "       [26474.01550201],\n",
              "       [26539.16180271],\n",
              "       [26604.3081034 ],\n",
              "       [26669.4544041 ],\n",
              "       [26734.6007048 ],\n",
              "       [26799.74700549],\n",
              "       [26864.89330619],\n",
              "       [26930.03960689],\n",
              "       [26995.18590758],\n",
              "       [27060.33220828],\n",
              "       [27125.47850898],\n",
              "       [27190.62480967],\n",
              "       [27255.77111037],\n",
              "       [27320.91741107],\n",
              "       [27386.06371176],\n",
              "       [27451.21001246],\n",
              "       [27516.35631316],\n",
              "       [27581.50261385],\n",
              "       [27646.64891455],\n",
              "       [27711.79521525],\n",
              "       [27776.94151594],\n",
              "       [27842.08781664],\n",
              "       [27907.23411734],\n",
              "       [27972.38041803],\n",
              "       [28037.52671873],\n",
              "       [28102.67301943],\n",
              "       [28167.81932012],\n",
              "       [28232.96562082],\n",
              "       [28298.11192152],\n",
              "       [28363.25822221],\n",
              "       [28428.40452291],\n",
              "       [28493.5508236 ],\n",
              "       [28558.6971243 ],\n",
              "       [28623.843425  ],\n",
              "       [28688.98972569],\n",
              "       [28754.13602639],\n",
              "       [28819.28232709],\n",
              "       [28884.42862778],\n",
              "       [28949.57492848],\n",
              "       [29014.72122918],\n",
              "       [29079.86752987],\n",
              "       [29145.01383057],\n",
              "       [29210.16013127],\n",
              "       [29275.30643196],\n",
              "       [29340.45273266],\n",
              "       [29405.59903336],\n",
              "       [29470.74533405],\n",
              "       [29535.89163475],\n",
              "       [29601.03793545],\n",
              "       [29666.18423614],\n",
              "       [29731.33053684],\n",
              "       [29796.47683754],\n",
              "       [29861.62313823],\n",
              "       [29926.76943893],\n",
              "       [29991.91573963],\n",
              "       [30057.06204032],\n",
              "       [30122.20834102],\n",
              "       [30187.35464172],\n",
              "       [30252.50094241],\n",
              "       [30317.64724311],\n",
              "       [30382.79354381],\n",
              "       [30447.9398445 ],\n",
              "       [30513.0861452 ],\n",
              "       [30578.2324459 ],\n",
              "       [30643.37874659],\n",
              "       [30708.52504729],\n",
              "       [30773.67134799],\n",
              "       [30838.81764868],\n",
              "       [30903.96394938],\n",
              "       [30969.11025008],\n",
              "       [31034.25655077],\n",
              "       [31099.40285147],\n",
              "       [31164.54915217],\n",
              "       [31229.69545286],\n",
              "       [31294.84175356],\n",
              "       [31359.98805426],\n",
              "       [31425.13435495],\n",
              "       [31490.28065565],\n",
              "       [31555.42695635],\n",
              "       [31620.57325704],\n",
              "       [31685.71955774],\n",
              "       [31750.86585844],\n",
              "       [31816.01215913],\n",
              "       [31881.15845983],\n",
              "       [31946.30476053],\n",
              "       [32011.45106122],\n",
              "       [32076.59736192],\n",
              "       [32141.74366262],\n",
              "       [32206.88996331],\n",
              "       [32272.03626401],\n",
              "       [32337.18256471],\n",
              "       [32402.3288654 ],\n",
              "       [32467.4751661 ],\n",
              "       [32532.6214668 ],\n",
              "       [32597.76776749],\n",
              "       [32662.91406819],\n",
              "       [32728.06036889],\n",
              "       [32793.20666958],\n",
              "       [32858.35297028],\n",
              "       [32923.49927098],\n",
              "       [32988.64557167],\n",
              "       [33053.79187237],\n",
              "       [33118.93817307],\n",
              "       [33184.08447376],\n",
              "       [33249.23077446],\n",
              "       [33314.37707516],\n",
              "       [33379.52337585],\n",
              "       [33444.66967655],\n",
              "       [33509.81597725],\n",
              "       [33574.96227794],\n",
              "       [33640.10857864],\n",
              "       [33705.25487934],\n",
              "       [33770.40118003],\n",
              "       [33835.54748073],\n",
              "       [33900.69378143],\n",
              "       [33965.84008212],\n",
              "       [34030.98638282],\n",
              "       [34096.13268352],\n",
              "       [34161.27898421],\n",
              "       [34226.42528491],\n",
              "       [34291.57158561],\n",
              "       [34356.7178863 ],\n",
              "       [34421.864187  ],\n",
              "       [34487.0104877 ],\n",
              "       [34552.15678839],\n",
              "       [34617.30308909],\n",
              "       [34682.44938979],\n",
              "       [34747.59569048],\n",
              "       [34812.74199118],\n",
              "       [34877.88829188],\n",
              "       [34943.03459257],\n",
              "       [35008.18089327],\n",
              "       [35073.32719397],\n",
              "       [35138.47349466],\n",
              "       [35203.61979536],\n",
              "       [35268.76609606],\n",
              "       [35333.91239675],\n",
              "       [35399.05869745],\n",
              "       [35464.20499815],\n",
              "       [35529.35129884],\n",
              "       [35594.49759954],\n",
              "       [35659.64390024],\n",
              "       [35724.79020093],\n",
              "       [35789.93650163],\n",
              "       [35855.08280233],\n",
              "       [35920.22910302],\n",
              "       [35985.37540372],\n",
              "       [36050.52170442],\n",
              "       [36115.66800511],\n",
              "       [36180.81430581],\n",
              "       [36245.9606065 ],\n",
              "       [36311.1069072 ],\n",
              "       [36376.2532079 ],\n",
              "       [36441.39950859],\n",
              "       [36506.54580929],\n",
              "       [36571.69210999],\n",
              "       [36636.83841068],\n",
              "       [36701.98471138],\n",
              "       [36767.13101208],\n",
              "       [36832.27731277],\n",
              "       [36897.42361347],\n",
              "       [36962.56991417],\n",
              "       [37027.71621486],\n",
              "       [37092.86251556],\n",
              "       [37158.00881626],\n",
              "       [37223.15511695],\n",
              "       [37288.30141765],\n",
              "       [37353.44771835],\n",
              "       [37418.59401904],\n",
              "       [37483.74031974],\n",
              "       [37548.88662044],\n",
              "       [37614.03292113],\n",
              "       [37679.17922183],\n",
              "       [37744.32552253],\n",
              "       [37809.47182322],\n",
              "       [37874.61812392],\n",
              "       [37939.76442462],\n",
              "       [38004.91072531],\n",
              "       [38070.05702601],\n",
              "       [38135.20332671],\n",
              "       [38200.3496274 ],\n",
              "       [38265.4959281 ],\n",
              "       [38330.6422288 ],\n",
              "       [38395.78852949],\n",
              "       [38460.93483019],\n",
              "       [38526.08113089],\n",
              "       [38591.22743158],\n",
              "       [38656.37373228],\n",
              "       [38721.52003298],\n",
              "       [38786.66633367],\n",
              "       [38851.81263437],\n",
              "       [38916.95893507],\n",
              "       [38982.10523576],\n",
              "       [39047.25153646],\n",
              "       [39112.39783716],\n",
              "       [39177.54413785],\n",
              "       [39242.69043855],\n",
              "       [39307.83673925],\n",
              "       [39372.98303994],\n",
              "       [39438.12934064],\n",
              "       [39503.27564134],\n",
              "       [39568.42194203],\n",
              "       [39633.56824273],\n",
              "       [39698.71454343],\n",
              "       [39763.86084412],\n",
              "       [39829.00714482],\n",
              "       [39894.15344552],\n",
              "       [39959.29974621],\n",
              "       [40024.44604691],\n",
              "       [40089.59234761],\n",
              "       [40154.7386483 ],\n",
              "       [40219.884949  ],\n",
              "       [40285.0312497 ],\n",
              "       [40350.17755039],\n",
              "       [40415.32385109],\n",
              "       [40480.47015179],\n",
              "       [40545.61645248],\n",
              "       [40610.76275318],\n",
              "       [40675.90905388],\n",
              "       [40741.05535457],\n",
              "       [40806.20165527],\n",
              "       [40871.34795597],\n",
              "       [40936.49425666],\n",
              "       [41001.64055736],\n",
              "       [41066.78685806],\n",
              "       [41131.93315875],\n",
              "       [41197.07945945],\n",
              "       [41262.22576015],\n",
              "       [41327.37206084],\n",
              "       [41392.51836154],\n",
              "       [41457.66466224],\n",
              "       [41522.81096293],\n",
              "       [41587.95726363],\n",
              "       [41653.10356433],\n",
              "       [41718.24986502],\n",
              "       [41783.39616572],\n",
              "       [41848.54246642],\n",
              "       [41913.68876711],\n",
              "       [41978.83506781],\n",
              "       [42043.98136851],\n",
              "       [42109.1276692 ],\n",
              "       [42174.2739699 ],\n",
              "       [42239.4202706 ],\n",
              "       [42304.56657129],\n",
              "       [42369.71287199],\n",
              "       [42434.85917269],\n",
              "       [42500.00547338],\n",
              "       [42565.15177408]])"
            ]
          },
          "metadata": {
            "tags": []
          },
          "execution_count": 24
        }
      ]
    },
    {
      "cell_type": "code",
      "metadata": {
        "colab": {
          "base_uri": "https://localhost:8080/",
          "height": 264
        },
        "id": "11D-gyobB1z7",
        "outputId": "2b563695-34b0-469c-e68c-e54a859ddfb2"
      },
      "source": [
        "plt.scatter(x,y)\n",
        "plt.plot(x,Yp)\n",
        "plt.show()"
      ],
      "execution_count": null,
      "outputs": [
        {
          "output_type": "display_data",
          "data": {
            "image/png": "[encoded data removed]",
            "text/plain": [
              "<Figure size 432x288 with 1 Axes>"
            ]
          },
          "metadata": {
            "tags": [],
            "needs_background": "light"
          }
        }
      ]
    },
    {
      "cell_type": "code",
      "metadata": {
        "colab": {
          "base_uri": "https://localhost:8080/"
        },
        "id": "mSmLMfClCok8",
        "outputId": "a6a7ec2a-c435-49a0-d63a-56c249a1ee38"
      },
      "source": [
        "regressor.score(x,y)*100"
      ],
      "execution_count": null,
      "outputs": [
        {
          "output_type": "execute_result",
          "data": {
            "text/plain": [
              "6.321505412473494"
            ]
          },
          "metadata": {
            "tags": []
          },
          "execution_count": 26
        }
      ]
    },
    {
      "cell_type": "code",
      "metadata": {
        "colab": {
          "base_uri": "https://localhost:8080/"
        },
        "id": "FDV8XwxSC0F7",
        "outputId": "c68a456a-d531-4dec-9fcb-e38d868defe7"
      },
      "source": [
        "# C\n",
        "regressor.intercept_"
      ],
      "execution_count": null,
      "outputs": [
        {
          "output_type": "execute_result",
          "data": {
            "text/plain": [
              "array([18721.60571911])"
            ]
          },
          "metadata": {
            "tags": []
          },
          "execution_count": 27
        }
      ]
    },
    {
      "cell_type": "code",
      "metadata": {
        "colab": {
          "base_uri": "https://localhost:8080/"
        },
        "id": "8_93QqfuC3NP",
        "outputId": "67fdbd41-2448-4127-a007-e4b3fa4fca4f"
      },
      "source": [
        "# m\n",
        "regressor.coef_"
      ],
      "execution_count": null,
      "outputs": [
        {
          "output_type": "execute_result",
          "data": {
            "text/plain": [
              "array([[65.1463007]])"
            ]
          },
          "metadata": {
            "tags": []
          },
          "execution_count": 29
        }
      ]
    },
    {
      "cell_type": "markdown",
      "metadata": {
        "id": "IJLKNNTYPxPy"
      },
      "source": [
        "# **Polynomial Regression**"
      ]
    },
    {
      "cell_type": "code",
      "metadata": {
        "id": "nKgyV2scC_Jt"
      },
      "source": [
        "from sklearn.preprocessing import PolynomialFeatures\n",
        "Poly = PolynomialFeatures(degree=2)\n",
        "X=Poly.fit_transform(x)"
      ],
      "execution_count": null,
      "outputs": []
    },
    {
      "cell_type": "code",
      "metadata": {
        "colab": {
          "base_uri": "https://localhost:8080/",
          "height": 406
        },
        "id": "YmuODcFFQe0n",
        "outputId": "9fccdac3-2ae1-499e-be18-3701ca986449"
      },
      "source": [
        "pd.DataFrame(X)"
      ],
      "execution_count": null,
      "outputs": [
        {
          "output_type": "execute_result",
          "data": {
            "text/html": [
              "<div>\n",
              "<style scoped>\n",
              "    .dataframe tbody tr th:only-of-type {\n",
              "        vertical-align: middle;\n",
              "    }\n",
              "\n",
              "    .dataframe tbody tr th {\n",
              "        vertical-align: top;\n",
              "    }\n",
              "\n",
              "    .dataframe thead th {\n",
              "        text-align: right;\n",
              "    }\n",
              "</style>\n",
              "<table border=\"1\" class=\"dataframe\">\n",
              "  <thead>\n",
              "    <tr style=\"text-align: right;\">\n",
              "      <th></th>\n",
              "      <th>0</th>\n",
              "      <th>1</th>\n",
              "      <th>2</th>\n",
              "    </tr>\n",
              "  </thead>\n",
              "  <tbody>\n",
              "    <tr>\n",
              "      <th>0</th>\n",
              "      <td>1.0</td>\n",
              "      <td>0.0</td>\n",
              "      <td>0.0</td>\n",
              "    </tr>\n",
              "    <tr>\n",
              "      <th>1</th>\n",
              "      <td>1.0</td>\n",
              "      <td>1.0</td>\n",
              "      <td>1.0</td>\n",
              "    </tr>\n",
              "    <tr>\n",
              "      <th>2</th>\n",
              "      <td>1.0</td>\n",
              "      <td>2.0</td>\n",
              "      <td>4.0</td>\n",
              "    </tr>\n",
              "    <tr>\n",
              "      <th>3</th>\n",
              "      <td>1.0</td>\n",
              "      <td>3.0</td>\n",
              "      <td>9.0</td>\n",
              "    </tr>\n",
              "    <tr>\n",
              "      <th>4</th>\n",
              "      <td>1.0</td>\n",
              "      <td>4.0</td>\n",
              "      <td>16.0</td>\n",
              "    </tr>\n",
              "    <tr>\n",
              "      <th>...</th>\n",
              "      <td>...</td>\n",
              "      <td>...</td>\n",
              "      <td>...</td>\n",
              "    </tr>\n",
              "    <tr>\n",
              "      <th>362</th>\n",
              "      <td>1.0</td>\n",
              "      <td>362.0</td>\n",
              "      <td>131044.0</td>\n",
              "    </tr>\n",
              "    <tr>\n",
              "      <th>363</th>\n",
              "      <td>1.0</td>\n",
              "      <td>363.0</td>\n",
              "      <td>131769.0</td>\n",
              "    </tr>\n",
              "    <tr>\n",
              "      <th>364</th>\n",
              "      <td>1.0</td>\n",
              "      <td>364.0</td>\n",
              "      <td>132496.0</td>\n",
              "    </tr>\n",
              "    <tr>\n",
              "      <th>365</th>\n",
              "      <td>1.0</td>\n",
              "      <td>365.0</td>\n",
              "      <td>133225.0</td>\n",
              "    </tr>\n",
              "    <tr>\n",
              "      <th>366</th>\n",
              "      <td>1.0</td>\n",
              "      <td>366.0</td>\n",
              "      <td>133956.0</td>\n",
              "    </tr>\n",
              "  </tbody>\n",
              "</table>\n",
              "<p>367 rows × 3 columns</p>\n",
              "</div>"
            ],
            "text/plain": [
              "       0      1         2\n",
              "0    1.0    0.0       0.0\n",
              "1    1.0    1.0       1.0\n",
              "2    1.0    2.0       4.0\n",
              "3    1.0    3.0       9.0\n",
              "4    1.0    4.0      16.0\n",
              "..   ...    ...       ...\n",
              "362  1.0  362.0  131044.0\n",
              "363  1.0  363.0  131769.0\n",
              "364  1.0  364.0  132496.0\n",
              "365  1.0  365.0  133225.0\n",
              "366  1.0  366.0  133956.0\n",
              "\n",
              "[367 rows x 3 columns]"
            ]
          },
          "metadata": {
            "tags": []
          },
          "execution_count": 52
        }
      ]
    },
    {
      "cell_type": "code",
      "metadata": {
        "colab": {
          "base_uri": "https://localhost:8080/"
        },
        "id": "tcHwNjnPRTdp",
        "outputId": "fd7f8c45-05d2-404c-81f2-e4a39490021d"
      },
      "source": [
        "from sklearn.linear_model import LinearRegression\n",
        "reg=LinearRegression()\n",
        "reg.fit(X,y)"
      ],
      "execution_count": null,
      "outputs": [
        {
          "output_type": "execute_result",
          "data": {
            "text/plain": [
              "LinearRegression(copy_X=True, fit_intercept=True, n_jobs=None, normalize=False)"
            ]
          },
          "metadata": {
            "tags": []
          },
          "execution_count": 53
        }
      ]
    },
    {
      "cell_type": "code",
      "metadata": {
        "colab": {
          "base_uri": "https://localhost:8080/"
        },
        "id": "U_bHfUbQSK2r",
        "outputId": "2d6718b2-931a-443c-8c9b-95e97c02df28"
      },
      "source": [
        "reg.coef_"
      ],
      "execution_count": null,
      "outputs": [
        {
          "output_type": "execute_result",
          "data": {
            "text/plain": [
              "array([[  0.        , 829.9314631 ,  -2.08957695]])"
            ]
          },
          "metadata": {
            "tags": []
          },
          "execution_count": 54
        }
      ]
    },
    {
      "cell_type": "markdown",
      "metadata": {
        "id": "mOaaznSTClda"
      },
      "source": [
        ""
      ]
    },
    {
      "cell_type": "code",
      "metadata": {
        "colab": {
          "base_uri": "https://localhost:8080/"
        },
        "id": "G_jUrdtiSO-Y",
        "outputId": "2328a2f2-be89-4524-d2b8-7b6e3fa15879"
      },
      "source": [
        "reg.intercept_"
      ],
      "execution_count": null,
      "outputs": [
        {
          "output_type": "execute_result",
          "data": {
            "text/plain": [
              "array([-27802.824994])"
            ]
          },
          "metadata": {
            "tags": []
          },
          "execution_count": 55
        }
      ]
    },
    {
      "cell_type": "code",
      "metadata": {
        "colab": {
          "base_uri": "https://localhost:8080/"
        },
        "id": "ONC2Qs-SSRIM",
        "outputId": "5bf82fbf-7fbe-467d-852a-f262f7ad3664"
      },
      "source": [
        "Yp=reg.predict(X)\n",
        "Yp"
      ],
      "execution_count": null,
      "outputs": [
        {
          "output_type": "execute_result",
          "data": {
            "text/plain": [
              "array([[-2.78028250e+04],\n",
              "       [-2.69749831e+04],\n",
              "       [-2.61513204e+04],\n",
              "       [-2.53318368e+04],\n",
              "       [-2.45165324e+04],\n",
              "       [-2.37054071e+04],\n",
              "       [-2.28984610e+04],\n",
              "       [-2.20956940e+04],\n",
              "       [-2.12971062e+04],\n",
              "       [-2.05026976e+04],\n",
              "       [-1.97124681e+04],\n",
              "       [-1.89264177e+04],\n",
              "       [-1.81445465e+04],\n",
              "       [-1.73668545e+04],\n",
              "       [-1.65933416e+04],\n",
              "       [-1.58240079e+04],\n",
              "       [-1.50588533e+04],\n",
              "       [-1.42978779e+04],\n",
              "       [-1.35410816e+04],\n",
              "       [-1.27884645e+04],\n",
              "       [-1.20400265e+04],\n",
              "       [-1.12957677e+04],\n",
              "       [-1.05556880e+04],\n",
              "       [-9.81978755e+03],\n",
              "       [-9.08806620e+03],\n",
              "       [-8.36052401e+03],\n",
              "       [-7.63716097e+03],\n",
              "       [-6.91797708e+03],\n",
              "       [-6.20297235e+03],\n",
              "       [-5.49214678e+03],\n",
              "       [-4.78550035e+03],\n",
              "       [-4.08303308e+03],\n",
              "       [-3.38474497e+03],\n",
              "       [-2.69063601e+03],\n",
              "       [-2.00070620e+03],\n",
              "       [-1.31495554e+03],\n",
              "       [-6.33384045e+02],\n",
              "       [ 4.40083011e+01],\n",
              "       [ 7.17221493e+02],\n",
              "       [ 1.38625553e+03],\n",
              "       [ 2.05111042e+03],\n",
              "       [ 2.71178615e+03],\n",
              "       [ 3.36828272e+03],\n",
              "       [ 4.02060015e+03],\n",
              "       [ 4.66873841e+03],\n",
              "       [ 5.31269753e+03],\n",
              "       [ 5.95247749e+03],\n",
              "       [ 6.58807830e+03],\n",
              "       [ 7.21949995e+03],\n",
              "       [ 7.84674245e+03],\n",
              "       [ 8.46980580e+03],\n",
              "       [ 9.08868999e+03],\n",
              "       [ 9.70339502e+03],\n",
              "       [ 1.03139209e+04],\n",
              "       [ 1.09202676e+04],\n",
              "       [ 1.15224352e+04],\n",
              "       [ 1.21204236e+04],\n",
              "       [ 1.27142329e+04],\n",
              "       [ 1.33038630e+04],\n",
              "       [ 1.38893140e+04],\n",
              "       [ 1.44705858e+04],\n",
              "       [ 1.50476784e+04],\n",
              "       [ 1.56205919e+04],\n",
              "       [ 1.61893263e+04],\n",
              "       [ 1.67538815e+04],\n",
              "       [ 1.73142575e+04],\n",
              "       [ 1.78704544e+04],\n",
              "       [ 1.84224721e+04],\n",
              "       [ 1.89703107e+04],\n",
              "       [ 1.95139701e+04],\n",
              "       [ 2.00534504e+04],\n",
              "       [ 2.05887515e+04],\n",
              "       [ 2.11198735e+04],\n",
              "       [ 2.16468163e+04],\n",
              "       [ 2.21695799e+04],\n",
              "       [ 2.26881644e+04],\n",
              "       [ 2.32025698e+04],\n",
              "       [ 2.37127959e+04],\n",
              "       [ 2.42188430e+04],\n",
              "       [ 2.47207109e+04],\n",
              "       [ 2.52183996e+04],\n",
              "       [ 2.57119092e+04],\n",
              "       [ 2.62012396e+04],\n",
              "       [ 2.66863909e+04],\n",
              "       [ 2.71673630e+04],\n",
              "       [ 2.76441559e+04],\n",
              "       [ 2.81167697e+04],\n",
              "       [ 2.85852044e+04],\n",
              "       [ 2.90494599e+04],\n",
              "       [ 2.95095362e+04],\n",
              "       [ 2.99654334e+04],\n",
              "       [ 3.04171515e+04],\n",
              "       [ 3.08646903e+04],\n",
              "       [ 3.13080501e+04],\n",
              "       [ 3.17472306e+04],\n",
              "       [ 3.21822321e+04],\n",
              "       [ 3.26130543e+04],\n",
              "       [ 3.30396974e+04],\n",
              "       [ 3.34621614e+04],\n",
              "       [ 3.38804462e+04],\n",
              "       [ 3.42945519e+04],\n",
              "       [ 3.47044783e+04],\n",
              "       [ 3.51102257e+04],\n",
              "       [ 3.55117939e+04],\n",
              "       [ 3.59091829e+04],\n",
              "       [ 3.63023928e+04],\n",
              "       [ 3.66914235e+04],\n",
              "       [ 3.70762751e+04],\n",
              "       [ 3.74569475e+04],\n",
              "       [ 3.78334408e+04],\n",
              "       [ 3.82057549e+04],\n",
              "       [ 3.85738899e+04],\n",
              "       [ 3.89378457e+04],\n",
              "       [ 3.92976223e+04],\n",
              "       [ 3.96532198e+04],\n",
              "       [ 4.00046381e+04],\n",
              "       [ 4.03518773e+04],\n",
              "       [ 4.06949374e+04],\n",
              "       [ 4.10338182e+04],\n",
              "       [ 4.13685200e+04],\n",
              "       [ 4.16990425e+04],\n",
              "       [ 4.20253860e+04],\n",
              "       [ 4.23475502e+04],\n",
              "       [ 4.26655353e+04],\n",
              "       [ 4.29793413e+04],\n",
              "       [ 4.32889681e+04],\n",
              "       [ 4.35944158e+04],\n",
              "       [ 4.38956843e+04],\n",
              "       [ 4.41927736e+04],\n",
              "       [ 4.44856838e+04],\n",
              "       [ 4.47744148e+04],\n",
              "       [ 4.50589667e+04],\n",
              "       [ 4.53393394e+04],\n",
              "       [ 4.56155330e+04],\n",
              "       [ 4.58875474e+04],\n",
              "       [ 4.61553827e+04],\n",
              "       [ 4.64190388e+04],\n",
              "       [ 4.66785157e+04],\n",
              "       [ 4.69338135e+04],\n",
              "       [ 4.71849322e+04],\n",
              "       [ 4.74318717e+04],\n",
              "       [ 4.76746320e+04],\n",
              "       [ 4.79132132e+04],\n",
              "       [ 4.81476153e+04],\n",
              "       [ 4.83778381e+04],\n",
              "       [ 4.86038819e+04],\n",
              "       [ 4.88257464e+04],\n",
              "       [ 4.90434318e+04],\n",
              "       [ 4.92569381e+04],\n",
              "       [ 4.94662652e+04],\n",
              "       [ 4.96714132e+04],\n",
              "       [ 4.98723820e+04],\n",
              "       [ 5.00691716e+04],\n",
              "       [ 5.02617821e+04],\n",
              "       [ 5.04502135e+04],\n",
              "       [ 5.06344656e+04],\n",
              "       [ 5.08145387e+04],\n",
              "       [ 5.09904326e+04],\n",
              "       [ 5.11621473e+04],\n",
              "       [ 5.13296829e+04],\n",
              "       [ 5.14930393e+04],\n",
              "       [ 5.16522165e+04],\n",
              "       [ 5.18072146e+04],\n",
              "       [ 5.19580336e+04],\n",
              "       [ 5.21046734e+04],\n",
              "       [ 5.22471341e+04],\n",
              "       [ 5.23854155e+04],\n",
              "       [ 5.25195179e+04],\n",
              "       [ 5.26494411e+04],\n",
              "       [ 5.27751851e+04],\n",
              "       [ 5.28967500e+04],\n",
              "       [ 5.30141357e+04],\n",
              "       [ 5.31273423e+04],\n",
              "       [ 5.32363697e+04],\n",
              "       [ 5.33412180e+04],\n",
              "       [ 5.34418871e+04],\n",
              "       [ 5.35383770e+04],\n",
              "       [ 5.36306878e+04],\n",
              "       [ 5.37188195e+04],\n",
              "       [ 5.38027720e+04],\n",
              "       [ 5.38825453e+04],\n",
              "       [ 5.39581395e+04],\n",
              "       [ 5.40295545e+04],\n",
              "       [ 5.40967904e+04],\n",
              "       [ 5.41598471e+04],\n",
              "       [ 5.42187247e+04],\n",
              "       [ 5.42734231e+04],\n",
              "       [ 5.43239424e+04],\n",
              "       [ 5.43702825e+04],\n",
              "       [ 5.44124434e+04],\n",
              "       [ 5.44504252e+04],\n",
              "       [ 5.44842279e+04],\n",
              "       [ 5.45138514e+04],\n",
              "       [ 5.45392957e+04],\n",
              "       [ 5.45605609e+04],\n",
              "       [ 5.45776469e+04],\n",
              "       [ 5.45905538e+04],\n",
              "       [ 5.45992815e+04],\n",
              "       [ 5.46038301e+04],\n",
              "       [ 5.46041995e+04],\n",
              "       [ 5.46003898e+04],\n",
              "       [ 5.45924009e+04],\n",
              "       [ 5.45802328e+04],\n",
              "       [ 5.45638856e+04],\n",
              "       [ 5.45433593e+04],\n",
              "       [ 5.45186538e+04],\n",
              "       [ 5.44897691e+04],\n",
              "       [ 5.44567053e+04],\n",
              "       [ 5.44194623e+04],\n",
              "       [ 5.43780402e+04],\n",
              "       [ 5.43324389e+04],\n",
              "       [ 5.42826585e+04],\n",
              "       [ 5.42286989e+04],\n",
              "       [ 5.41705602e+04],\n",
              "       [ 5.41082423e+04],\n",
              "       [ 5.40417452e+04],\n",
              "       [ 5.39710690e+04],\n",
              "       [ 5.38962137e+04],\n",
              "       [ 5.38171792e+04],\n",
              "       [ 5.37339655e+04],\n",
              "       [ 5.36465727e+04],\n",
              "       [ 5.35550007e+04],\n",
              "       [ 5.34592496e+04],\n",
              "       [ 5.33593193e+04],\n",
              "       [ 5.32552099e+04],\n",
              "       [ 5.31469213e+04],\n",
              "       [ 5.30344535e+04],\n",
              "       [ 5.29178067e+04],\n",
              "       [ 5.27969806e+04],\n",
              "       [ 5.26719754e+04],\n",
              "       [ 5.25427911e+04],\n",
              "       [ 5.24094275e+04],\n",
              "       [ 5.22718849e+04],\n",
              "       [ 5.21301631e+04],\n",
              "       [ 5.19842621e+04],\n",
              "       [ 5.18341820e+04],\n",
              "       [ 5.16799227e+04],\n",
              "       [ 5.15214843e+04],\n",
              "       [ 5.13588667e+04],\n",
              "       [ 5.11920699e+04],\n",
              "       [ 5.10210940e+04],\n",
              "       [ 5.08459390e+04],\n",
              "       [ 5.06666048e+04],\n",
              "       [ 5.04830914e+04],\n",
              "       [ 5.02953989e+04],\n",
              "       [ 5.01035273e+04],\n",
              "       [ 4.99074764e+04],\n",
              "       [ 4.97072465e+04],\n",
              "       [ 4.95028373e+04],\n",
              "       [ 4.92942491e+04],\n",
              "       [ 4.90814816e+04],\n",
              "       [ 4.88645350e+04],\n",
              "       [ 4.86434093e+04],\n",
              "       [ 4.84181044e+04],\n",
              "       [ 4.81886204e+04],\n",
              "       [ 4.79549572e+04],\n",
              "       [ 4.77171148e+04],\n",
              "       [ 4.74750933e+04],\n",
              "       [ 4.72288926e+04],\n",
              "       [ 4.69785128e+04],\n",
              "       [ 4.67239538e+04],\n",
              "       [ 4.64652157e+04],\n",
              "       [ 4.62022984e+04],\n",
              "       [ 4.59352020e+04],\n",
              "       [ 4.56639264e+04],\n",
              "       [ 4.53884717e+04],\n",
              "       [ 4.51088378e+04],\n",
              "       [ 4.48250247e+04],\n",
              "       [ 4.45370325e+04],\n",
              "       [ 4.42448612e+04],\n",
              "       [ 4.39485106e+04],\n",
              "       [ 4.36479810e+04],\n",
              "       [ 4.33432722e+04],\n",
              "       [ 4.30343842e+04],\n",
              "       [ 4.27213171e+04],\n",
              "       [ 4.24040708e+04],\n",
              "       [ 4.20826453e+04],\n",
              "       [ 4.17570408e+04],\n",
              "       [ 4.14272570e+04],\n",
              "       [ 4.10932941e+04],\n",
              "       [ 4.07551521e+04],\n",
              "       [ 4.04128309e+04],\n",
              "       [ 4.00663305e+04],\n",
              "       [ 3.97156510e+04],\n",
              "       [ 3.93607923e+04],\n",
              "       [ 3.90017545e+04],\n",
              "       [ 3.86385375e+04],\n",
              "       [ 3.82711414e+04],\n",
              "       [ 3.78995661e+04],\n",
              "       [ 3.75238117e+04],\n",
              "       [ 3.71438781e+04],\n",
              "       [ 3.67597654e+04],\n",
              "       [ 3.63714735e+04],\n",
              "       [ 3.59790024e+04],\n",
              "       [ 3.55823522e+04],\n",
              "       [ 3.51815229e+04],\n",
              "       [ 3.47765143e+04],\n",
              "       [ 3.43673267e+04],\n",
              "       [ 3.39539599e+04],\n",
              "       [ 3.35364139e+04],\n",
              "       [ 3.31146888e+04],\n",
              "       [ 3.26887845e+04],\n",
              "       [ 3.22587010e+04],\n",
              "       [ 3.18244384e+04],\n",
              "       [ 3.13859967e+04],\n",
              "       [ 3.09433758e+04],\n",
              "       [ 3.04965758e+04],\n",
              "       [ 3.00455966e+04],\n",
              "       [ 2.95904382e+04],\n",
              "       [ 2.91311007e+04],\n",
              "       [ 2.86675840e+04],\n",
              "       [ 2.81998882e+04],\n",
              "       [ 2.77280132e+04],\n",
              "       [ 2.72519591e+04],\n",
              "       [ 2.67717258e+04],\n",
              "       [ 2.62873134e+04],\n",
              "       [ 2.57987218e+04],\n",
              "       [ 2.53059510e+04],\n",
              "       [ 2.48090011e+04],\n",
              "       [ 2.43078721e+04],\n",
              "       [ 2.38025639e+04],\n",
              "       [ 2.32930765e+04],\n",
              "       [ 2.27794100e+04],\n",
              "       [ 2.22615643e+04],\n",
              "       [ 2.17395395e+04],\n",
              "       [ 2.12133355e+04],\n",
              "       [ 2.06829524e+04],\n",
              "       [ 2.01483901e+04],\n",
              "       [ 1.96096487e+04],\n",
              "       [ 1.90667281e+04],\n",
              "       [ 1.85196284e+04],\n",
              "       [ 1.79683495e+04],\n",
              "       [ 1.74128914e+04],\n",
              "       [ 1.68532542e+04],\n",
              "       [ 1.62894378e+04],\n",
              "       [ 1.57214423e+04],\n",
              "       [ 1.51492677e+04],\n",
              "       [ 1.45729138e+04],\n",
              "       [ 1.39923809e+04],\n",
              "       [ 1.34076687e+04],\n",
              "       [ 1.28187774e+04],\n",
              "       [ 1.22257070e+04],\n",
              "       [ 1.16284574e+04],\n",
              "       [ 1.10270287e+04],\n",
              "       [ 1.04214208e+04],\n",
              "       [ 9.81163372e+03],\n",
              "       [ 9.19766752e+03],\n",
              "       [ 8.57952216e+03],\n",
              "       [ 7.95719764e+03],\n",
              "       [ 7.33069397e+03],\n",
              "       [ 6.70001115e+03],\n",
              "       [ 6.06514917e+03],\n",
              "       [ 5.42610804e+03],\n",
              "       [ 4.78288776e+03],\n",
              "       [ 4.13548832e+03],\n",
              "       [ 3.48390973e+03],\n",
              "       [ 2.82815198e+03],\n",
              "       [ 2.16821508e+03],\n",
              "       [ 1.50409903e+03],\n",
              "       [ 8.35803823e+02],\n",
              "       [ 1.63329461e+02],\n",
              "       [-5.13324054e+02],\n",
              "       [-1.19415672e+03],\n",
              "       [-1.87916855e+03],\n",
              "       [-2.56835952e+03],\n",
              "       [-3.26172965e+03],\n",
              "       [-3.95927894e+03]])"
            ]
          },
          "metadata": {
            "tags": []
          },
          "execution_count": 57
        }
      ]
    },
    {
      "cell_type": "code",
      "metadata": {
        "colab": {
          "base_uri": "https://localhost:8080/",
          "height": 264
        },
        "id": "lUTtXtQiSSFg",
        "outputId": "07477b2a-d14b-42af-ec95-0f5c25a31476"
      },
      "source": [
        "plt.scatter(x,y)\n",
        "plt.plot(x,Yp)\n",
        "plt.show()"
      ],
      "execution_count": null,
      "outputs": [
        {
          "output_type": "display_data",
          "data": {
            "image/png": "[encoded data removed]",
            "text/plain": [
              "<Figure size 432x288 with 1 Axes>"
            ]
          },
          "metadata": {
            "tags": [],
            "needs_background": "light"
          }
        }
      ]
    },
    {
      "cell_type": "code",
      "metadata": {
        "colab": {
          "base_uri": "https://localhost:8080/"
        },
        "id": "_ztbuo3UYsHl",
        "outputId": "5025512e-104a-469e-97c5-dc3d66279872"
      },
      "source": [
        "reg.score(X,y)*100"
      ],
      "execution_count": null,
      "outputs": [
        {
          "output_type": "execute_result",
          "data": {
            "text/plain": [
              "64.7178554360084"
            ]
          },
          "metadata": {
            "tags": []
          },
          "execution_count": 61
        }
      ]
    },
    {
      "cell_type": "code",
      "metadata": {
        "colab": {
          "base_uri": "https://localhost:8080/"
        },
        "id": "QIU_87HwZBpm",
        "outputId": "763abc4b-728e-4fba-c21d-83c2f84d4d4b"
      },
      "source": [
        "reg.predict(Poly.transform([[366]]))"
      ],
      "execution_count": null,
      "outputs": [
        {
          "output_type": "execute_result",
          "data": {
            "text/plain": [
              "array([[-3959.27893904]])"
            ]
          },
          "metadata": {
            "tags": []
          },
          "execution_count": 63
        }
      ]
    },
    {
      "cell_type": "markdown",
      "metadata": {
        "id": "Hzo6PQdfafuo"
      },
      "source": [
        "# **Support Vector Regression**"
      ]
    },
    {
      "cell_type": "code",
      "metadata": {
        "colab": {
          "base_uri": "https://localhost:8080/"
        },
        "id": "Hm60iIIUaeD9",
        "outputId": "8edf3ca5-bdc1-4f2d-f3b6-d0aa86d6fdc5"
      },
      "source": [
        "y.reshape(-1,1)"
      ],
      "execution_count": null,
      "outputs": [
        {
          "output_type": "execute_result",
          "data": {
            "text/plain": [
              "array([[1.0000e+01],\n",
              "       [2.0000e+00],\n",
              "       [4.0000e+00],\n",
              "       [8.0000e+00],\n",
              "       [8.0000e+00],\n",
              "       [1.6000e+01],\n",
              "       [8.0000e+00],\n",
              "       [1.2000e+01],\n",
              "       [2.2000e+01],\n",
              "       [1.6000e+01],\n",
              "       [2.4000e+01],\n",
              "       [2.8000e+01],\n",
              "       [4.4000e+01],\n",
              "       [4.2000e+01],\n",
              "       [1.0400e+02],\n",
              "       [1.3400e+02],\n",
              "       [1.1800e+02],\n",
              "       [1.6400e+02],\n",
              "       [1.2600e+02],\n",
              "       [1.5000e+02],\n",
              "       [1.1600e+02],\n",
              "       [2.8000e+02],\n",
              "       [2.4600e+02],\n",
              "       [2.1200e+02],\n",
              "       [3.5600e+02],\n",
              "       [6.1200e+02],\n",
              "       [8.4600e+02],\n",
              "       [9.7000e+02],\n",
              "       [1.1120e+03],\n",
              "       [1.1520e+03],\n",
              "       [1.2120e+03],\n",
              "       [9.7000e+02],\n",
              "       [1.1400e+03],\n",
              "       [1.1260e+03],\n",
              "       [1.6240e+03],\n",
              "       [1.7400e+03],\n",
              "       [1.7060e+03],\n",
              "       [1.5160e+03],\n",
              "       [2.4860e+03],\n",
              "       [2.0620e+03],\n",
              "       [1.7680e+03],\n",
              "       [2.1220e+03],\n",
              "       [1.8440e+03],\n",
              "       [2.7400e+03],\n",
              "       [3.1580e+03],\n",
              "       [1.2390e+03],\n",
              "       [1.5370e+03],\n",
              "       [1.2920e+03],\n",
              "       [1.6670e+03],\n",
              "       [1.4080e+03],\n",
              "       [1.8350e+03],\n",
              "       [1.6070e+03],\n",
              "       [1.5680e+03],\n",
              "       [1.9020e+03],\n",
              "       [1.7050e+03],\n",
              "       [1.8020e+03],\n",
              "       [2.3960e+03],\n",
              "       [2.5640e+03],\n",
              "       [2.9520e+03],\n",
              "       [3.6560e+03],\n",
              "       [2.9710e+03],\n",
              "       [3.6020e+03],\n",
              "       [3.3440e+03],\n",
              "       [3.3390e+03],\n",
              "       [3.1750e+03],\n",
              "       [4.3110e+03],\n",
              "       [3.5920e+03],\n",
              "       [3.5620e+03],\n",
              "       [3.7260e+03],\n",
              "       [3.9910e+03],\n",
              "       [3.8080e+03],\n",
              "       [4.7940e+03],\n",
              "       [5.0490e+03],\n",
              "       [4.6280e+03],\n",
              "       [6.1540e+03],\n",
              "       [5.7200e+03],\n",
              "       [6.0230e+03],\n",
              "       [6.5360e+03],\n",
              "       [6.6650e+03],\n",
              "       [7.1110e+03],\n",
              "       [6.4140e+03],\n",
              "       [5.9070e+03],\n",
              "       [7.2460e+03],\n",
              "       [7.2540e+03],\n",
              "       [8.1380e+03],\n",
              "       [8.3640e+03],\n",
              "       [8.7890e+03],\n",
              "       [7.7240e+03],\n",
              "       [8.8120e+03],\n",
              "       [9.6880e+03],\n",
              "       [9.8470e+03],\n",
              "       [9.4720e+03],\n",
              "       [1.0408e+04],\n",
              "       [1.0882e+04],\n",
              "       [8.5360e+03],\n",
              "       [9.9810e+03],\n",
              "       [1.1156e+04],\n",
              "       [1.1135e+04],\n",
              "       [1.1306e+04],\n",
              "       [1.2039e+04],\n",
              "       [1.1404e+04],\n",
              "       [1.0032e+04],\n",
              "       [1.1085e+04],\n",
              "       [1.3108e+04],\n",
              "       [1.3829e+04],\n",
              "       [1.4740e+04],\n",
              "       [1.5918e+04],\n",
              "       [1.5151e+04],\n",
              "       [1.3560e+04],\n",
              "       [1.5656e+04],\n",
              "       [1.6868e+04],\n",
              "       [1.8205e+04],\n",
              "       [1.8255e+04],\n",
              "       [2.0142e+04],\n",
              "       [1.9610e+04],\n",
              "       [1.8339e+04],\n",
              "       [1.8255e+04],\n",
              "       [1.9430e+04],\n",
              "       [2.1947e+04],\n",
              "       [2.2718e+04],\n",
              "       [2.4018e+04],\n",
              "       [2.3942e+04],\n",
              "       [2.2500e+04],\n",
              "       [2.3148e+04],\n",
              "       [2.5561e+04],\n",
              "       [2.5790e+04],\n",
              "       [2.7749e+04],\n",
              "       [2.7754e+04],\n",
              "       [2.9106e+04],\n",
              "       [2.8178e+04],\n",
              "       [2.9917e+04],\n",
              "       [3.2607e+04],\n",
              "       [3.5468e+04],\n",
              "       [3.4824e+04],\n",
              "       [3.7411e+04],\n",
              "       [4.0235e+04],\n",
              "       [3.6806e+04],\n",
              "       [3.9170e+04],\n",
              "       [4.5601e+04],\n",
              "       [4.8443e+04],\n",
              "       [4.8888e+04],\n",
              "       [5.0072e+04],\n",
              "       [4.8932e+04],\n",
              "       [4.6484e+04],\n",
              "       [4.9631e+04],\n",
              "       [5.2479e+04],\n",
              "       [5.4968e+04],\n",
              "       [5.7486e+04],\n",
              "       [5.5117e+04],\n",
              "       [5.2672e+04],\n",
              "       [5.0491e+04],\n",
              "       [5.1282e+04],\n",
              "       [5.6626e+04],\n",
              "       [6.2170e+04],\n",
              "       [6.1455e+04],\n",
              "       [6.5156e+04],\n",
              "       [6.2117e+04],\n",
              "       [5.3016e+04],\n",
              "       [6.1252e+04],\n",
              "       [6.7066e+04],\n",
              "       [6.4141e+04],\n",
              "       [6.5610e+04],\n",
              "       [6.3986e+04],\n",
              "       [5.8096e+04],\n",
              "       [5.4298e+04],\n",
              "       [6.5024e+04],\n",
              "       [6.9196e+04],\n",
              "       [6.8518e+04],\n",
              "       [6.9029e+04],\n",
              "       [7.0067e+04],\n",
              "       [6.1749e+04],\n",
              "       [5.9696e+04],\n",
              "       [6.6873e+04],\n",
              "       [7.5995e+04],\n",
              "       [7.6827e+04],\n",
              "       [7.6657e+04],\n",
              "       [7.8479e+04],\n",
              "       [7.9461e+04],\n",
              "       [6.8766e+04],\n",
              "       [7.8168e+04],\n",
              "       [8.2865e+04],\n",
              "       [8.4159e+04],\n",
              "       [8.7107e+04],\n",
              "       [9.0606e+04],\n",
              "       [9.1725e+04],\n",
              "       [7.5015e+04],\n",
              "       [8.9855e+04],\n",
              "       [9.5536e+04],\n",
              "       [9.6762e+04],\n",
              "       [9.7655e+04],\n",
              "       [9.4414e+04],\n",
              "       [9.3220e+04],\n",
              "       [8.1909e+04],\n",
              "       [9.1097e+04],\n",
              "       [9.7860e+04],\n",
              "       [9.6787e+04],\n",
              "       [9.2973e+04],\n",
              "       [9.2574e+04],\n",
              "       [8.7395e+04],\n",
              "       [7.4493e+04],\n",
              "       [8.3362e+04],\n",
              "       [8.6703e+04],\n",
              "       [8.5921e+04],\n",
              "       [8.5717e+04],\n",
              "       [8.8759e+04],\n",
              "       [8.2770e+04],\n",
              "       [6.9669e+04],\n",
              "       [8.0500e+04],\n",
              "       [8.6748e+04],\n",
              "       [8.1785e+04],\n",
              "       [7.9885e+04],\n",
              "       [7.5479e+04],\n",
              "       [7.4770e+04],\n",
              "       [6.0130e+04],\n",
              "       [7.1869e+04],\n",
              "       [7.8809e+04],\n",
              "       [7.0798e+04],\n",
              "       [7.3305e+04],\n",
              "       [7.4418e+04],\n",
              "       [6.7789e+04],\n",
              "       [5.4262e+04],\n",
              "       [6.3717e+04],\n",
              "       [6.7811e+04],\n",
              "       [6.3441e+04],\n",
              "       [6.2304e+04],\n",
              "       [6.1893e+04],\n",
              "       [5.6519e+04],\n",
              "       [4.5506e+04],\n",
              "       [5.4348e+04],\n",
              "       [5.6264e+04],\n",
              "       [5.4371e+04],\n",
              "       [5.3931e+04],\n",
              "       [5.0366e+04],\n",
              "       [4.5922e+04],\n",
              "       [3.6104e+04],\n",
              "       [4.3036e+04],\n",
              "       [5.0188e+04],\n",
              "       [4.8765e+04],\n",
              "       [4.8117e+04],\n",
              "       [4.7228e+04],\n",
              "       [4.5928e+04],\n",
              "       [3.7592e+04],\n",
              "       [4.6027e+04],\n",
              "       [5.0465e+04],\n",
              "       [4.7628e+04],\n",
              "       [5.0359e+04],\n",
              "       [4.5811e+04],\n",
              "       [4.6707e+04],\n",
              "       [3.7119e+04],\n",
              "       [4.4724e+04],\n",
              "       [4.8285e+04],\n",
              "       [4.4584e+04],\n",
              "       [4.4620e+04],\n",
              "       [4.1692e+04],\n",
              "       [3.0681e+04],\n",
              "       [2.8609e+04],\n",
              "       [3.8548e+04],\n",
              "       [4.5366e+04],\n",
              "       [4.6185e+04],\n",
              "       [4.6283e+04],\n",
              "       [4.5301e+04],\n",
              "       [4.4404e+04],\n",
              "       [3.7441e+04],\n",
              "       [4.4245e+04],\n",
              "       [4.4699e+04],\n",
              "       [4.3174e+04],\n",
              "       [4.1353e+04],\n",
              "       [4.1815e+04],\n",
              "       [3.9036e+04],\n",
              "       [3.1179e+04],\n",
              "       [3.6474e+04],\n",
              "       [3.5506e+04],\n",
              "       [3.6574e+04],\n",
              "       [3.6711e+04],\n",
              "       [3.6010e+04],\n",
              "       [3.3178e+04],\n",
              "       [2.6227e+04],\n",
              "       [3.2083e+04],\n",
              "       [3.1637e+04],\n",
              "       [2.9411e+04],\n",
              "       [2.9961e+04],\n",
              "       [3.0354e+04],\n",
              "       [2.7336e+04],\n",
              "       [2.1941e+04],\n",
              "       [2.6251e+04],\n",
              "       [1.8172e+04],\n",
              "       [2.6754e+04],\n",
              "       [2.6991e+04],\n",
              "       [2.6834e+04],\n",
              "       [2.4622e+04],\n",
              "       [1.9147e+04],\n",
              "       [2.3880e+04],\n",
              "       [2.4716e+04],\n",
              "       [2.3444e+04],\n",
              "       [2.2349e+04],\n",
              "       [1.8575e+04],\n",
              "       [2.0333e+04],\n",
              "       [1.6072e+04],\n",
              "       [2.0542e+04],\n",
              "       [2.1945e+04],\n",
              "       [1.9026e+04],\n",
              "       [2.0159e+04],\n",
              "       [1.8144e+04],\n",
              "       [1.6678e+04],\n",
              "       [1.6278e+04],\n",
              "       [1.7909e+04],\n",
              "       [2.0472e+04],\n",
              "       [1.8123e+04],\n",
              "       [1.8453e+04],\n",
              "       [1.8820e+04],\n",
              "       [1.6086e+04],\n",
              "       [1.2481e+04],\n",
              "       [1.5903e+04],\n",
              "       [1.7015e+04],\n",
              "       [1.5677e+04],\n",
              "       [1.5155e+04],\n",
              "       [1.5050e+04],\n",
              "       [1.3962e+04],\n",
              "       [9.9870e+03],\n",
              "       [1.3787e+04],\n",
              "       [1.5279e+04],\n",
              "       [1.4495e+04],\n",
              "       [1.4323e+04],\n",
              "       [1.4896e+04],\n",
              "       [1.3232e+04],\n",
              "       [9.0980e+03],\n",
              "       [1.2733e+04],\n",
              "       [1.1556e+04],\n",
              "       [1.8912e+04],\n",
              "       [1.3054e+04],\n",
              "       [1.3073e+04],\n",
              "       [1.1527e+04],\n",
              "       [8.5790e+03],\n",
              "       [1.1001e+04],\n",
              "       [1.2925e+04],\n",
              "       [1.2401e+04],\n",
              "       [1.1711e+04],\n",
              "       [1.2069e+04],\n",
              "       [1.1786e+04],\n",
              "       [8.7150e+03],\n",
              "       [1.0731e+04],\n",
              "       [1.2539e+04],\n",
              "       [9.3530e+03],\n",
              "       [1.2137e+04],\n",
              "       [1.2198e+04],\n",
              "       [1.1706e+04],\n",
              "       [9.0860e+03],\n",
              "       [1.1592e+04],\n",
              "       [1.2862e+04],\n",
              "       [1.3237e+04],\n",
              "       [1.3914e+04],\n",
              "       [1.3919e+04],\n",
              "       [1.4278e+04],\n",
              "       [1.0494e+04],\n",
              "       [1.3682e+04],\n",
              "       [1.6930e+04],\n",
              "       [1.6599e+04],\n",
              "       [1.6562e+04],\n",
              "       [1.6805e+04],\n",
              "       [1.5614e+04],\n",
              "       [1.2270e+04],\n",
              "       [1.4998e+04],\n",
              "       [1.7425e+04],\n",
              "       [1.6824e+04],\n",
              "       [1.8324e+04],\n",
              "       [1.8724e+04],\n",
              "       [1.8650e+04]])"
            ]
          },
          "metadata": {
            "tags": []
          },
          "execution_count": 64
        }
      ]
    },
    {
      "cell_type": "code",
      "metadata": {
        "id": "Kb1z5EJ6a_NS"
      },
      "source": [
        "from sklearn.preprocessing import StandardScaler\n",
        "sc_X=StandardScaler()\n",
        "sc_Y=StandardScaler()\n",
        "Sx=sc_X.fit_transform(x)\n",
        "Sy=sc_Y.fit_transform(y)"
      ],
      "execution_count": null,
      "outputs": []
    },
    {
      "cell_type": "code",
      "metadata": {
        "colab": {
          "base_uri": "https://localhost:8080/"
        },
        "id": "mAZL5Dwfbimh",
        "outputId": "e2ab5360-c536-48a4-8794-371aa7d30ccc"
      },
      "source": [
        "Sx"
      ],
      "execution_count": null,
      "outputs": [
        {
          "output_type": "execute_result",
          "data": {
            "text/plain": [
              "array([[-1.72733774],\n",
              "       [-1.71789873],\n",
              "       [-1.70845973],\n",
              "       [-1.69902072],\n",
              "       [-1.68958172],\n",
              "       [-1.68014272],\n",
              "       [-1.67070371],\n",
              "       [-1.66126471],\n",
              "       [-1.6518257 ],\n",
              "       [-1.6423867 ],\n",
              "       [-1.6329477 ],\n",
              "       [-1.62350869],\n",
              "       [-1.61406969],\n",
              "       [-1.60463068],\n",
              "       [-1.59519168],\n",
              "       [-1.58575268],\n",
              "       [-1.57631367],\n",
              "       [-1.56687467],\n",
              "       [-1.55743566],\n",
              "       [-1.54799666],\n",
              "       [-1.53855766],\n",
              "       [-1.52911865],\n",
              "       [-1.51967965],\n",
              "       [-1.51024064],\n",
              "       [-1.50080164],\n",
              "       [-1.49136263],\n",
              "       [-1.48192363],\n",
              "       [-1.47248463],\n",
              "       [-1.46304562],\n",
              "       [-1.45360662],\n",
              "       [-1.44416761],\n",
              "       [-1.43472861],\n",
              "       [-1.42528961],\n",
              "       [-1.4158506 ],\n",
              "       [-1.4064116 ],\n",
              "       [-1.39697259],\n",
              "       [-1.38753359],\n",
              "       [-1.37809459],\n",
              "       [-1.36865558],\n",
              "       [-1.35921658],\n",
              "       [-1.34977757],\n",
              "       [-1.34033857],\n",
              "       [-1.33089957],\n",
              "       [-1.32146056],\n",
              "       [-1.31202156],\n",
              "       [-1.30258255],\n",
              "       [-1.29314355],\n",
              "       [-1.28370455],\n",
              "       [-1.27426554],\n",
              "       [-1.26482654],\n",
              "       [-1.25538753],\n",
              "       [-1.24594853],\n",
              "       [-1.23650953],\n",
              "       [-1.22707052],\n",
              "       [-1.21763152],\n",
              "       [-1.20819251],\n",
              "       [-1.19875351],\n",
              "       [-1.18931451],\n",
              "       [-1.1798755 ],\n",
              "       [-1.1704365 ],\n",
              "       [-1.16099749],\n",
              "       [-1.15155849],\n",
              "       [-1.14211949],\n",
              "       [-1.13268048],\n",
              "       [-1.12324148],\n",
              "       [-1.11380247],\n",
              "       [-1.10436347],\n",
              "       [-1.09492447],\n",
              "       [-1.08548546],\n",
              "       [-1.07604646],\n",
              "       [-1.06660745],\n",
              "       [-1.05716845],\n",
              "       [-1.04772945],\n",
              "       [-1.03829044],\n",
              "       [-1.02885144],\n",
              "       [-1.01941243],\n",
              "       [-1.00997343],\n",
              "       [-1.00053443],\n",
              "       [-0.99109542],\n",
              "       [-0.98165642],\n",
              "       [-0.97221741],\n",
              "       [-0.96277841],\n",
              "       [-0.95333941],\n",
              "       [-0.9439004 ],\n",
              "       [-0.9344614 ],\n",
              "       [-0.92502239],\n",
              "       [-0.91558339],\n",
              "       [-0.90614439],\n",
              "       [-0.89670538],\n",
              "       [-0.88726638],\n",
              "       [-0.87782737],\n",
              "       [-0.86838837],\n",
              "       [-0.85894937],\n",
              "       [-0.84951036],\n",
              "       [-0.84007136],\n",
              "       [-0.83063235],\n",
              "       [-0.82119335],\n",
              "       [-0.81175435],\n",
              "       [-0.80231534],\n",
              "       [-0.79287634],\n",
              "       [-0.78343733],\n",
              "       [-0.77399833],\n",
              "       [-0.76455933],\n",
              "       [-0.75512032],\n",
              "       [-0.74568132],\n",
              "       [-0.73624231],\n",
              "       [-0.72680331],\n",
              "       [-0.71736431],\n",
              "       [-0.7079253 ],\n",
              "       [-0.6984863 ],\n",
              "       [-0.68904729],\n",
              "       [-0.67960829],\n",
              "       [-0.67016929],\n",
              "       [-0.66073028],\n",
              "       [-0.65129128],\n",
              "       [-0.64185227],\n",
              "       [-0.63241327],\n",
              "       [-0.62297427],\n",
              "       [-0.61353526],\n",
              "       [-0.60409626],\n",
              "       [-0.59465725],\n",
              "       [-0.58521825],\n",
              "       [-0.57577925],\n",
              "       [-0.56634024],\n",
              "       [-0.55690124],\n",
              "       [-0.54746223],\n",
              "       [-0.53802323],\n",
              "       [-0.52858423],\n",
              "       [-0.51914522],\n",
              "       [-0.50970622],\n",
              "       [-0.50026721],\n",
              "       [-0.49082821],\n",
              "       [-0.4813892 ],\n",
              "       [-0.4719502 ],\n",
              "       [-0.4625112 ],\n",
              "       [-0.45307219],\n",
              "       [-0.44363319],\n",
              "       [-0.43419418],\n",
              "       [-0.42475518],\n",
              "       [-0.41531618],\n",
              "       [-0.40587717],\n",
              "       [-0.39643817],\n",
              "       [-0.38699916],\n",
              "       [-0.37756016],\n",
              "       [-0.36812116],\n",
              "       [-0.35868215],\n",
              "       [-0.34924315],\n",
              "       [-0.33980414],\n",
              "       [-0.33036514],\n",
              "       [-0.32092614],\n",
              "       [-0.31148713],\n",
              "       [-0.30204813],\n",
              "       [-0.29260912],\n",
              "       [-0.28317012],\n",
              "       [-0.27373112],\n",
              "       [-0.26429211],\n",
              "       [-0.25485311],\n",
              "       [-0.2454141 ],\n",
              "       [-0.2359751 ],\n",
              "       [-0.2265361 ],\n",
              "       [-0.21709709],\n",
              "       [-0.20765809],\n",
              "       [-0.19821908],\n",
              "       [-0.18878008],\n",
              "       [-0.17934108],\n",
              "       [-0.16990207],\n",
              "       [-0.16046307],\n",
              "       [-0.15102406],\n",
              "       [-0.14158506],\n",
              "       [-0.13214606],\n",
              "       [-0.12270705],\n",
              "       [-0.11326805],\n",
              "       [-0.10382904],\n",
              "       [-0.09439004],\n",
              "       [-0.08495104],\n",
              "       [-0.07551203],\n",
              "       [-0.06607303],\n",
              "       [-0.05663402],\n",
              "       [-0.04719502],\n",
              "       [-0.03775602],\n",
              "       [-0.02831701],\n",
              "       [-0.01887801],\n",
              "       [-0.009439  ],\n",
              "       [ 0.        ],\n",
              "       [ 0.009439  ],\n",
              "       [ 0.01887801],\n",
              "       [ 0.02831701],\n",
              "       [ 0.03775602],\n",
              "       [ 0.04719502],\n",
              "       [ 0.05663402],\n",
              "       [ 0.06607303],\n",
              "       [ 0.07551203],\n",
              "       [ 0.08495104],\n",
              "       [ 0.09439004],\n",
              "       [ 0.10382904],\n",
              "       [ 0.11326805],\n",
              "       [ 0.12270705],\n",
              "       [ 0.13214606],\n",
              "       [ 0.14158506],\n",
              "       [ 0.15102406],\n",
              "       [ 0.16046307],\n",
              "       [ 0.16990207],\n",
              "       [ 0.17934108],\n",
              "       [ 0.18878008],\n",
              "       [ 0.19821908],\n",
              "       [ 0.20765809],\n",
              "       [ 0.21709709],\n",
              "       [ 0.2265361 ],\n",
              "       [ 0.2359751 ],\n",
              "       [ 0.2454141 ],\n",
              "       [ 0.25485311],\n",
              "       [ 0.26429211],\n",
              "       [ 0.27373112],\n",
              "       [ 0.28317012],\n",
              "       [ 0.29260912],\n",
              "       [ 0.30204813],\n",
              "       [ 0.31148713],\n",
              "       [ 0.32092614],\n",
              "       [ 0.33036514],\n",
              "       [ 0.33980414],\n",
              "       [ 0.34924315],\n",
              "       [ 0.35868215],\n",
              "       [ 0.36812116],\n",
              "       [ 0.37756016],\n",
              "       [ 0.38699916],\n",
              "       [ 0.39643817],\n",
              "       [ 0.40587717],\n",
              "       [ 0.41531618],\n",
              "       [ 0.42475518],\n",
              "       [ 0.43419418],\n",
              "       [ 0.44363319],\n",
              "       [ 0.45307219],\n",
              "       [ 0.4625112 ],\n",
              "       [ 0.4719502 ],\n",
              "       [ 0.4813892 ],\n",
              "       [ 0.49082821],\n",
              "       [ 0.50026721],\n",
              "       [ 0.50970622],\n",
              "       [ 0.51914522],\n",
              "       [ 0.52858423],\n",
              "       [ 0.53802323],\n",
              "       [ 0.54746223],\n",
              "       [ 0.55690124],\n",
              "       [ 0.56634024],\n",
              "       [ 0.57577925],\n",
              "       [ 0.58521825],\n",
              "       [ 0.59465725],\n",
              "       [ 0.60409626],\n",
              "       [ 0.61353526],\n",
              "       [ 0.62297427],\n",
              "       [ 0.63241327],\n",
              "       [ 0.64185227],\n",
              "       [ 0.65129128],\n",
              "       [ 0.66073028],\n",
              "       [ 0.67016929],\n",
              "       [ 0.67960829],\n",
              "       [ 0.68904729],\n",
              "       [ 0.6984863 ],\n",
              "       [ 0.7079253 ],\n",
              "       [ 0.71736431],\n",
              "       [ 0.72680331],\n",
              "       [ 0.73624231],\n",
              "       [ 0.74568132],\n",
              "       [ 0.75512032],\n",
              "       [ 0.76455933],\n",
              "       [ 0.77399833],\n",
              "       [ 0.78343733],\n",
              "       [ 0.79287634],\n",
              "       [ 0.80231534],\n",
              "       [ 0.81175435],\n",
              "       [ 0.82119335],\n",
              "       [ 0.83063235],\n",
              "       [ 0.84007136],\n",
              "       [ 0.84951036],\n",
              "       [ 0.85894937],\n",
              "       [ 0.86838837],\n",
              "       [ 0.87782737],\n",
              "       [ 0.88726638],\n",
              "       [ 0.89670538],\n",
              "       [ 0.90614439],\n",
              "       [ 0.91558339],\n",
              "       [ 0.92502239],\n",
              "       [ 0.9344614 ],\n",
              "       [ 0.9439004 ],\n",
              "       [ 0.95333941],\n",
              "       [ 0.96277841],\n",
              "       [ 0.97221741],\n",
              "       [ 0.98165642],\n",
              "       [ 0.99109542],\n",
              "       [ 1.00053443],\n",
              "       [ 1.00997343],\n",
              "       [ 1.01941243],\n",
              "       [ 1.02885144],\n",
              "       [ 1.03829044],\n",
              "       [ 1.04772945],\n",
              "       [ 1.05716845],\n",
              "       [ 1.06660745],\n",
              "       [ 1.07604646],\n",
              "       [ 1.08548546],\n",
              "       [ 1.09492447],\n",
              "       [ 1.10436347],\n",
              "       [ 1.11380247],\n",
              "       [ 1.12324148],\n",
              "       [ 1.13268048],\n",
              "       [ 1.14211949],\n",
              "       [ 1.15155849],\n",
              "       [ 1.16099749],\n",
              "       [ 1.1704365 ],\n",
              "       [ 1.1798755 ],\n",
              "       [ 1.18931451],\n",
              "       [ 1.19875351],\n",
              "       [ 1.20819251],\n",
              "       [ 1.21763152],\n",
              "       [ 1.22707052],\n",
              "       [ 1.23650953],\n",
              "       [ 1.24594853],\n",
              "       [ 1.25538753],\n",
              "       [ 1.26482654],\n",
              "       [ 1.27426554],\n",
              "       [ 1.28370455],\n",
              "       [ 1.29314355],\n",
              "       [ 1.30258255],\n",
              "       [ 1.31202156],\n",
              "       [ 1.32146056],\n",
              "       [ 1.33089957],\n",
              "       [ 1.34033857],\n",
              "       [ 1.34977757],\n",
              "       [ 1.35921658],\n",
              "       [ 1.36865558],\n",
              "       [ 1.37809459],\n",
              "       [ 1.38753359],\n",
              "       [ 1.39697259],\n",
              "       [ 1.4064116 ],\n",
              "       [ 1.4158506 ],\n",
              "       [ 1.42528961],\n",
              "       [ 1.43472861],\n",
              "       [ 1.44416761],\n",
              "       [ 1.45360662],\n",
              "       [ 1.46304562],\n",
              "       [ 1.47248463],\n",
              "       [ 1.48192363],\n",
              "       [ 1.49136263],\n",
              "       [ 1.50080164],\n",
              "       [ 1.51024064],\n",
              "       [ 1.51967965],\n",
              "       [ 1.52911865],\n",
              "       [ 1.53855766],\n",
              "       [ 1.54799666],\n",
              "       [ 1.55743566],\n",
              "       [ 1.56687467],\n",
              "       [ 1.57631367],\n",
              "       [ 1.58575268],\n",
              "       [ 1.59519168],\n",
              "       [ 1.60463068],\n",
              "       [ 1.61406969],\n",
              "       [ 1.62350869],\n",
              "       [ 1.6329477 ],\n",
              "       [ 1.6423867 ],\n",
              "       [ 1.6518257 ],\n",
              "       [ 1.66126471],\n",
              "       [ 1.67070371],\n",
              "       [ 1.68014272],\n",
              "       [ 1.68958172],\n",
              "       [ 1.69902072],\n",
              "       [ 1.70845973],\n",
              "       [ 1.71789873],\n",
              "       [ 1.72733774]])"
            ]
          },
          "metadata": {
            "tags": []
          },
          "execution_count": 66
        }
      ]
    },
    {
      "cell_type": "code",
      "metadata": {
        "colab": {
          "base_uri": "https://localhost:8080/"
        },
        "id": "UmGaImVCbrla",
        "outputId": "1e59b8dd-8282-4d7f-d927-3b22a1338351"
      },
      "source": [
        "from sklearn.svm import SVR\n",
        "reg = SVR(kernel='rbf')\n",
        "reg.fit(Sx,Sy)"
      ],
      "execution_count": null,
      "outputs": [
        {
          "output_type": "stream",
          "text": [
            "/usr/local/lib/python3.7/dist-packages/sklearn/utils/validation.py:760: DataConversionWarning: A column-vector y was passed when a 1d array was expected. Please change the shape of y to (n_samples, ), for example using ravel().\n",
            "  y = column_or_1d(y, warn=True)\n"
          ],
          "name": "stderr"
        },
        {
          "output_type": "execute_result",
          "data": {
            "text/plain": [
              "SVR(C=1.0, cache_size=200, coef0=0.0, degree=3, epsilon=0.1, gamma='scale',\n",
              "    kernel='rbf', max_iter=-1, shrinking=True, tol=0.001, verbose=False)"
            ]
          },
          "metadata": {
            "tags": []
          },
          "execution_count": 68
        }
      ]
    },
    {
      "cell_type": "code",
      "metadata": {
        "colab": {
          "base_uri": "https://localhost:8080/"
        },
        "id": "p2sUN3PWcDq0",
        "outputId": "c66ca187-3b6f-4d2a-d974-11fcfefce7b8"
      },
      "source": [
        "reg.score(Sx,Sy)*100"
      ],
      "execution_count": null,
      "outputs": [
        {
          "output_type": "execute_result",
          "data": {
            "text/plain": [
              "95.8868734626255"
            ]
          },
          "metadata": {
            "tags": []
          },
          "execution_count": 69
        }
      ]
    },
    {
      "cell_type": "code",
      "metadata": {
        "colab": {
          "base_uri": "https://localhost:8080/",
          "height": 264
        },
        "id": "x6SvBVaMcQq-",
        "outputId": "37ae5d2c-f142-446c-8d3f-9559a0688c43"
      },
      "source": [
        "plt.scatter(Sx,Sy)\n",
        "plt.plot(Sx,reg.predict(Sx),'r+')\n",
        "plt.show()"
      ],
      "execution_count": null,
      "outputs": [
        {
          "output_type": "display_data",
          "data": {
            "image/png": "[encoded data removed]",
            "text/plain": [
              "<Figure size 432x288 with 1 Axes>"
            ]
          },
          "metadata": {
            "tags": [],
            "needs_background": "light"
          }
        }
      ]
    },
    {
      "cell_type": "markdown",
      "metadata": {
        "id": "nu10IuecdDpu"
      },
      "source": [
        "# Decision Tree Regression"
      ]
    },
    {
      "cell_type": "code",
      "metadata": {
        "id": "YmXLCVAvc4Rs"
      },
      "source": [
        "y=Day.values"
      ],
      "execution_count": null,
      "outputs": []
    },
    {
      "cell_type": "code",
      "metadata": {
        "colab": {
          "base_uri": "https://localhost:8080/"
        },
        "id": "jXsjxnB6dzs8",
        "outputId": "b81fd972-4d66-4e3e-e3db-441745486087"
      },
      "source": [
        "from sklearn.tree import DecisionTreeRegressor\n",
        "reg=DecisionTreeRegressor()\n",
        "reg.fit(x,y)"
      ],
      "execution_count": null,
      "outputs": [
        {
          "output_type": "execute_result",
          "data": {
            "text/plain": [
              "DecisionTreeRegressor(ccp_alpha=0.0, criterion='mse', max_depth=None,\n",
              "                      max_features=None, max_leaf_nodes=None,\n",
              "                      min_impurity_decrease=0.0, min_impurity_split=None,\n",
              "                      min_samples_leaf=1, min_samples_split=2,\n",
              "                      min_weight_fraction_leaf=0.0, presort='deprecated',\n",
              "                      random_state=None, splitter='best')"
            ]
          },
          "metadata": {
            "tags": []
          },
          "execution_count": 76
        }
      ]
    },
    {
      "cell_type": "code",
      "metadata": {
        "id": "_GkO4P6seIFd"
      },
      "source": [
        "Yp=reg.predict(x)"
      ],
      "execution_count": null,
      "outputs": []
    },
    {
      "cell_type": "code",
      "metadata": {
        "colab": {
          "base_uri": "https://localhost:8080/",
          "height": 264
        },
        "id": "puExDkDOeViY",
        "outputId": "e17ddf32-abd5-4180-896c-c3c4ed70f555"
      },
      "source": [
        "plt.scatter(x,y)\n",
        "plt.plot(x,Yp,'r+')\n",
        "plt.show()"
      ],
      "execution_count": null,
      "outputs": [
        {
          "output_type": "display_data",
          "data": {
            "image/png": "[encoded data removed]",
            "text/plain": [
              "<Figure size 432x288 with 1 Axes>"
            ]
          },
          "metadata": {
            "tags": [],
            "needs_background": "light"
          }
        }
      ]
    },
    {
      "cell_type": "code",
      "metadata": {
        "colab": {
          "base_uri": "https://localhost:8080/"
        },
        "id": "qV24lddWejlR",
        "outputId": "3753e178-f791-45df-d390-d40af20b671f"
      },
      "source": [
        "reg.score(x,y)*100"
      ],
      "execution_count": null,
      "outputs": [
        {
          "output_type": "execute_result",
          "data": {
            "text/plain": [
              "100.0"
            ]
          },
          "metadata": {
            "tags": []
          },
          "execution_count": 81
        }
      ]
    },
    {
      "cell_type": "code",
      "metadata": {
        "colab": {
          "base_uri": "https://localhost:8080/"
        },
        "id": "Y8ny0H6hfJVY",
        "outputId": "9788e587-b1e2-4d07-d272-aab9a5c92b43"
      },
      "source": [
        "reg.predict([[366]])"
      ],
      "execution_count": null,
      "outputs": [
        {
          "output_type": "execute_result",
          "data": {
            "text/plain": [
              "array([18650.])"
            ]
          },
          "metadata": {
            "tags": []
          },
          "execution_count": 83
        }
      ]
    },
    {
      "cell_type": "code",
      "metadata": {
        "colab": {
          "base_uri": "https://localhost:8080/"
        },
        "id": "sUTI_pfbfRnT",
        "outputId": "a2e19526-f9c3-43e8-bd55-ae4753865cc5"
      },
      "source": [
        "y[366]"
      ],
      "execution_count": null,
      "outputs": [
        {
          "output_type": "execute_result",
          "data": {
            "text/plain": [
              "array([18650.])"
            ]
          },
          "metadata": {
            "tags": []
          },
          "execution_count": 84
        }
      ]
    },
    {
      "cell_type": "code",
      "metadata": {
        "colab": {
          "base_uri": "https://localhost:8080/"
        },
        "id": "o2NcgJz8fVQE",
        "outputId": "27666c1f-2aa1-4309-8bfb-f932e736e115"
      },
      "source": [
        "reg.predict([[367]])"
      ],
      "execution_count": null,
      "outputs": [
        {
          "output_type": "execute_result",
          "data": {
            "text/plain": [
              "array([18650.])"
            ]
          },
          "metadata": {
            "tags": []
          },
          "execution_count": 85
        }
      ]
    },
    {
      "cell_type": "code",
      "metadata": {
        "colab": {
          "base_uri": "https://localhost:8080/"
        },
        "id": "mmCv_z9lfaKx",
        "outputId": "12c0efc7-8159-4e77-bc84-d2ac41a733ee"
      },
      "source": [
        "reg.predict([[380]])"
      ],
      "execution_count": null,
      "outputs": [
        {
          "output_type": "execute_result",
          "data": {
            "text/plain": [
              "array([18650.])"
            ]
          },
          "metadata": {
            "tags": []
          },
          "execution_count": 86
        }
      ]
    },
    {
      "cell_type": "markdown",
      "metadata": {
        "id": "utsluM6SgJGv"
      },
      "source": [
        "# Random Forest Regression"
      ]
    },
    {
      "cell_type": "code",
      "metadata": {
        "colab": {
          "base_uri": "https://localhost:8080/"
        },
        "id": "fjzizqaUgIZg",
        "outputId": "420ee21e-8263-4bc5-f2c9-9c74f80b03a7"
      },
      "source": [
        "from sklearn.ensemble import RandomForestRegressor\n",
        "reg= RandomForestRegressor()\n",
        "reg.fit(x,y)"
      ],
      "execution_count": null,
      "outputs": [
        {
          "output_type": "stream",
          "text": [
            "/usr/local/lib/python3.7/dist-packages/ipykernel_launcher.py:3: DataConversionWarning: A column-vector y was passed when a 1d array was expected. Please change the shape of y to (n_samples,), for example using ravel().\n",
            "  This is separate from the ipykernel package so we can avoid doing imports until\n"
          ],
          "name": "stderr"
        },
        {
          "output_type": "execute_result",
          "data": {
            "text/plain": [
              "RandomForestRegressor(bootstrap=True, ccp_alpha=0.0, criterion='mse',\n",
              "                      max_depth=None, max_features='auto', max_leaf_nodes=None,\n",
              "                      max_samples=None, min_impurity_decrease=0.0,\n",
              "                      min_impurity_split=None, min_samples_leaf=1,\n",
              "                      min_samples_split=2, min_weight_fraction_leaf=0.0,\n",
              "                      n_estimators=100, n_jobs=None, oob_score=False,\n",
              "                      random_state=None, verbose=0, warm_start=False)"
            ]
          },
          "metadata": {
            "tags": []
          },
          "execution_count": 88
        }
      ]
    },
    {
      "cell_type": "code",
      "metadata": {
        "colab": {
          "base_uri": "https://localhost:8080/"
        },
        "id": "To2HkCrNguoo",
        "outputId": "e699d9bd-3261-4809-dd53-c73460e006c0"
      },
      "source": [
        "reg.score(x,y)*100"
      ],
      "execution_count": null,
      "outputs": [
        {
          "output_type": "execute_result",
          "data": {
            "text/plain": [
              "99.80086543386466"
            ]
          },
          "metadata": {
            "tags": []
          },
          "execution_count": 89
        }
      ]
    },
    {
      "cell_type": "code",
      "metadata": {
        "colab": {
          "base_uri": "https://localhost:8080/",
          "height": 264
        },
        "id": "y5t82khjg4Yi",
        "outputId": "16a47e3e-0e75-402d-8289-54c42d14e68d"
      },
      "source": [
        "plt.scatter(x,y)\n",
        "plt.plot(x,reg.predict(x),'r+')\n",
        "plt.show()"
      ],
      "execution_count": null,
      "outputs": [
        {
          "output_type": "display_data",
          "data": {
            "image/png": "[encoded data removed]",
            "text/plain": [
              "<Figure size 432x288 with 1 Axes>"
            ]
          },
          "metadata": {
            "tags": [],
            "needs_background": "light"
          }
        }
      ]
    },
    {
      "cell_type": "code",
      "metadata": {
        "colab": {
          "base_uri": "https://localhost:8080/"
        },
        "id": "-NjTBBYUhE9O",
        "outputId": "8dcfc61b-1b9b-4bfc-fb81-59797729305e"
      },
      "source": [
        "reg.predict([[366]])"
      ],
      "execution_count": null,
      "outputs": [
        {
          "output_type": "execute_result",
          "data": {
            "text/plain": [
              "array([18550.91])"
            ]
          },
          "metadata": {
            "tags": []
          },
          "execution_count": 92
        }
      ]
    },
    {
      "cell_type": "code",
      "metadata": {
        "colab": {
          "base_uri": "https://localhost:8080/"
        },
        "id": "Uj0ZOQbPhalL",
        "outputId": "840cc5a1-ffea-4ef0-b744-5f6cbe1be1fc"
      },
      "source": [
        "reg.predict([[370]])"
      ],
      "execution_count": null,
      "outputs": [
        {
          "output_type": "execute_result",
          "data": {
            "text/plain": [
              "array([18550.91])"
            ]
          },
          "metadata": {
            "tags": []
          },
          "execution_count": 93
        }
      ]
    },
    {
      "cell_type": "code",
      "metadata": {
        "colab": {
          "base_uri": "https://localhost:8080/"
        },
        "id": "C42_JUfShoh3",
        "outputId": "b37206d5-5c3d-401b-b7ab-6d61e07ac9b7"
      },
      "source": [
        "reg.predict([[380]])"
      ],
      "execution_count": null,
      "outputs": [
        {
          "output_type": "execute_result",
          "data": {
            "text/plain": [
              "array([18550.91])"
            ]
          },
          "metadata": {
            "tags": []
          },
          "execution_count": 94
        }
      ]
    }
  ]
}